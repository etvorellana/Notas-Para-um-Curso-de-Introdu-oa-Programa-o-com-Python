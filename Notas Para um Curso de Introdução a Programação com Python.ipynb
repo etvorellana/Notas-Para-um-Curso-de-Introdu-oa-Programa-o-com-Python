{
 "cells": [
  {
   "cell_type": "markdown",
   "metadata": {},
   "source": [
    "# Uma Introdução Rápida #\n",
    "\n",
    "A linguagem __Python__ surgiu no fim dos anos 80 como uma linguagem de script. Desde então evoluiu para se converter numa ferramenta essencial para programadores de diversas áreas. Um grande número de engenheiros e cientistas, aderiram a esta linguagem e a comunidade de usuários vem crescendo. Se quiser se aprofundar um pouco mais na história do desenvolvimento de __Python__ pode começar por [A História do Python](http://mindbending.org/pt/a-historia-do-python \"A História do Python\").\n",
    "\n",
    "Muitos programadores procuram Python devido a sua simplicidade e elegância, bem como por causa do ecossistema de ferramenta construídas com base nesta poderosa linguagem. Para dar um exemplo deste tipo de ecossistema pode-se falar, por exemplo, da grande comunidade que trabalha hoje na área de computação científica e ciência dos dados, desenvolvendo em __Python__ e utilizando como base um grupo de bibliotecas ou pacotes muito robustos e práticos:\n",
    "\n",
    "* [NumPy](https://numpy.org/about/): Esta biblioteca fornece estruturas para armazenamento de matrizes de dados multidimensionais e ferramentas de cômputo eficientes para ser utilizadas com as mesmas.\n",
    "* [SciPy](https://www.scipy.org/about.html): Os recursos disponíveis nesta biblioteca incluem uma variedade de ferramentas numéricas, como rotinas para integração numérica ou resolução de sistemas de lineares.\n",
    "* [Pandas](https://pandas.pydata.org/about/): Com o objetivo de facilitar processar grandes volumes de dados, esta biblioteca fornece uma estrutura de dados (_DataFrame_), juntamente com um poderoso conjunto de métodos para manipular, filtrar, agrupar e transformar a informação contida na mesma.\n",
    "* [Matplotlib](https://matplotlib.org/): Quando se trata da criação de gráficos e figuras de qualidade para publicação esta biblioteca fornece uma interface útil e de fácil uso.\n",
    "* [Scikit-Learn](https://scikit-learn.org/stable/about.html): Esta biblioteca fornece um conjunto de ferramentas para a implementação de algoritmos simples de aprendizagem de máquina.\n",
    "* [IPython](https://ipython.org/) / [Jupyter](https://jupyter.org/) : Estas duas ferramentas fornecem um terminal e um ambiente de notebook interativo muito útil para análises exploratórias, bem como para a criação de documentos interativos e executáveis.\n",
    "\n",
    "Muitos dos alunos deste curso tem familiaridade com outras linguagens - MATLAB, Pascal, Java, C ++, etc. - pelo que tentaremos disponibilizar uma revisão breve, mas abrangente da linguagem __Python__ nesta e nas próximas aulas. Este curso é baseado na sintaxe do __Python 3__, que contém alguns aprimoramentos de linguagem que não são compatíveis com a série 2.x do __Python__. Embora o __Python 3__ tenha sido lançado em 2008, a adoção desta versão tem sido relativamente lenta e ainda é comum encontrar projetos em desenvolvimento que utilizam a versão anterior. Isso ocorre principalmente porque demorou algum tempo para que muitas das bibliotecas essenciais fossem compatíveis com os novos recursos e padrões da linguagem. Desde o início de 2014, no entanto, as versões estáveis das ferramentas mais importantes são totalmente compatíveis com o __Python__ 2 e 3.\n",
    "\n",
    "Podemos começar?"
   ]
  },
  {
   "cell_type": "code",
   "execution_count": 1,
   "metadata": {
    "tags": []
   },
   "outputs": [
    {
     "name": "stdout",
     "output_type": "stream",
     "text": [
      "The Zen of Python, by Tim Peters\n",
      "\n",
      "Beautiful is better than ugly.\n",
      "Explicit is better than implicit.\n",
      "Simple is better than complex.\n",
      "Complex is better than complicated.\n",
      "Flat is better than nested.\n",
      "Sparse is better than dense.\n",
      "Readability counts.\n",
      "Special cases aren't special enough to break the rules.\n",
      "Although practicality beats purity.\n",
      "Errors should never pass silently.\n",
      "Unless explicitly silenced.\n",
      "In the face of ambiguity, refuse the temptation to guess.\n",
      "There should be one-- and preferably only one --obvious way to do it.\n",
      "Although that way may not be obvious at first unless you're Dutch.\n",
      "Now is better than never.\n",
      "Although never is often better than *right* now.\n",
      "If the implementation is hard to explain, it's a bad idea.\n",
      "If the implementation is easy to explain, it may be a good idea.\n",
      "Namespaces are one honking great idea -- let's do more of those!\n"
     ]
    }
   ],
   "source": [
    "import this "
   ]
  },
  {
   "cell_type": "markdown",
   "metadata": {},
   "source": [
    "Se quiser entender melhor o significado ou a mensagem por trás do _\"Zem of Python\"_ veja o [TheZenOfPythonExplained](https://wiki.python.org.br/TheZenOfPythonExplained). Se no final deste primeiro módulo não conseguir entender o ponto de vista de _Tim Piters_ podemos voltar a ele (;-).\n",
    "\n",
    "\n",
    "## Como executar código escrito em Python ##\n",
    "\n",
    "Antes de fazer nosso \"Hello World\" em __Python__ precisamos definir como executar os códigos. Basicamente dispomos de quatro mecanismos principais para executar código escrito em __Python__:\n",
    "\n",
    "* O interpretador __Python__: Disponível nas principais implementações da linguagem, o interpretador pode ser utilizado de forma simples e é bastante conveniente para experimentar pequenos fragmentos de códigos e sequências curtas de operações;\n",
    "<img src=\"Figuras/Fig_001.jpg\" />\n",
    "* O interpretador __IPython__: Desenvolvido como um ambiente interativo (__IPython__ = _Interactive Python_) acrescenta uma série de recursos importantes ao interpretador que facilitam a vida de quem precisa trabalhar diretamente com um ambiente __Python__;\n",
    "<img src=\"Figuras/Fig_002.jpg\" />\n",
    "* Utilizando _scripts_: Para programas maiores e mais complexos é conveniente salvar o código na forma de um arquivo __.py__ que, posteriormente, pode ser executado com o interpretador; \n",
    "<img src=\"Figuras/Fig_003.jpg\" />\n",
    "<img src=\"Figuras/Fig_004.jpg\" />\n",
    "* Utilizando o __Jupyter notebook__: Criado como um híbrido de um terminal interativo com um arquivo de _script_ o _notebook_ é uma mistura de código executável, texto, gráficos, e outras ferramentas interativas em um único documento.\n",
    "<img src=\"Figuras/Fig_005.jpg\" />"
   ]
  },
  {
   "cell_type": "code",
   "execution_count": 2,
   "metadata": {
    "tags": []
   },
   "outputs": [
    {
     "name": "stdout",
     "output_type": "stream",
     "text": [
      "a + b =  1  +  2  = c =  3\n",
      "__________________\n"
     ]
    },
    {
     "ename": "Exception",
     "evalue": "File `'../Exemplos/script_01.py'` not found.",
     "output_type": "error",
     "traceback": [
      "\u001b[0;31m---------------------------------------------------------------------------\u001b[0m",
      "\u001b[0;31mOSError\u001b[0m                                   Traceback (most recent call last)",
      "\u001b[0;32m/usr/lib/python3.9/site-packages/IPython/core/magics/execution.py\u001b[0m in \u001b[0;36mrun\u001b[0;34m(self, parameter_s, runner, file_finder)\u001b[0m\n\u001b[1;32m    702\u001b[0m             \u001b[0mfpath\u001b[0m \u001b[0;34m=\u001b[0m \u001b[0marg_lst\u001b[0m\u001b[0;34m[\u001b[0m\u001b[0;36m0\u001b[0m\u001b[0;34m]\u001b[0m\u001b[0;34m\u001b[0m\u001b[0;34m\u001b[0m\u001b[0m\n\u001b[0;32m--> 703\u001b[0;31m             \u001b[0mfilename\u001b[0m \u001b[0;34m=\u001b[0m \u001b[0mfile_finder\u001b[0m\u001b[0;34m(\u001b[0m\u001b[0mfpath\u001b[0m\u001b[0;34m)\u001b[0m\u001b[0;34m\u001b[0m\u001b[0;34m\u001b[0m\u001b[0m\n\u001b[0m\u001b[1;32m    704\u001b[0m         \u001b[0;32mexcept\u001b[0m \u001b[0mIndexError\u001b[0m\u001b[0;34m:\u001b[0m\u001b[0;34m\u001b[0m\u001b[0;34m\u001b[0m\u001b[0m\n",
      "\u001b[0;32m/usr/lib/python3.9/site-packages/IPython/utils/path.py\u001b[0m in \u001b[0;36mget_py_filename\u001b[0;34m(name, force_win32)\u001b[0m\n\u001b[1;32m    108\u001b[0m     \u001b[0;32melse\u001b[0m\u001b[0;34m:\u001b[0m\u001b[0;34m\u001b[0m\u001b[0;34m\u001b[0m\u001b[0m\n\u001b[0;32m--> 109\u001b[0;31m         \u001b[0;32mraise\u001b[0m \u001b[0mIOError\u001b[0m\u001b[0;34m(\u001b[0m\u001b[0;34m'File `%r` not found.'\u001b[0m \u001b[0;34m%\u001b[0m \u001b[0mname\u001b[0m\u001b[0;34m)\u001b[0m\u001b[0;34m\u001b[0m\u001b[0;34m\u001b[0m\u001b[0m\n\u001b[0m\u001b[1;32m    110\u001b[0m \u001b[0;34m\u001b[0m\u001b[0m\n",
      "\u001b[0;31mOSError\u001b[0m: File `'../Exemplos/script_01.py'` not found.",
      "\nDuring handling of the above exception, another exception occurred:\n",
      "\u001b[0;31mException\u001b[0m                                 Traceback (most recent call last)",
      "\u001b[0;32m<ipython-input-2-f767f7cbdb2a>\u001b[0m in \u001b[0;36m<module>\u001b[0;34m\u001b[0m\n\u001b[1;32m      6\u001b[0m \u001b[0mprint\u001b[0m\u001b[0;34m(\u001b[0m\u001b[0;34m\"__________________\"\u001b[0m\u001b[0;34m)\u001b[0m\u001b[0;34m\u001b[0m\u001b[0;34m\u001b[0m\u001b[0m\n\u001b[1;32m      7\u001b[0m \u001b[0;31m# Executando o mesmo códigoa a partir do script script_o1.py\u001b[0m\u001b[0;34m\u001b[0m\u001b[0;34m\u001b[0m\u001b[0;34m\u001b[0m\u001b[0m\n\u001b[0;32m----> 8\u001b[0;31m \u001b[0mget_ipython\u001b[0m\u001b[0;34m(\u001b[0m\u001b[0;34m)\u001b[0m\u001b[0;34m.\u001b[0m\u001b[0mrun_line_magic\u001b[0m\u001b[0;34m(\u001b[0m\u001b[0;34m'run'\u001b[0m\u001b[0;34m,\u001b[0m \u001b[0;34m'../Exemplos/script_01.py'\u001b[0m\u001b[0;34m)\u001b[0m\u001b[0;34m\u001b[0m\u001b[0;34m\u001b[0m\u001b[0m\n\u001b[0m\u001b[1;32m      9\u001b[0m \u001b[0mprint\u001b[0m\u001b[0;34m(\u001b[0m\u001b[0;34m\"__________________\"\u001b[0m\u001b[0;34m)\u001b[0m\u001b[0;34m\u001b[0m\u001b[0;34m\u001b[0m\u001b[0m\n\u001b[1;32m     10\u001b[0m \u001b[0;31m# Executando o script Hello_World.py\u001b[0m\u001b[0;34m\u001b[0m\u001b[0;34m\u001b[0m\u001b[0;34m\u001b[0m\u001b[0m\n",
      "\u001b[0;32m/usr/lib/python3.9/site-packages/IPython/core/interactiveshell.py\u001b[0m in \u001b[0;36mrun_line_magic\u001b[0;34m(self, magic_name, line, _stack_depth)\u001b[0m\n\u001b[1;32m   2324\u001b[0m                 \u001b[0mkwargs\u001b[0m\u001b[0;34m[\u001b[0m\u001b[0;34m'local_ns'\u001b[0m\u001b[0;34m]\u001b[0m \u001b[0;34m=\u001b[0m \u001b[0mself\u001b[0m\u001b[0;34m.\u001b[0m\u001b[0mget_local_scope\u001b[0m\u001b[0;34m(\u001b[0m\u001b[0mstack_depth\u001b[0m\u001b[0;34m)\u001b[0m\u001b[0;34m\u001b[0m\u001b[0;34m\u001b[0m\u001b[0m\n\u001b[1;32m   2325\u001b[0m             \u001b[0;32mwith\u001b[0m \u001b[0mself\u001b[0m\u001b[0;34m.\u001b[0m\u001b[0mbuiltin_trap\u001b[0m\u001b[0;34m:\u001b[0m\u001b[0;34m\u001b[0m\u001b[0;34m\u001b[0m\u001b[0m\n\u001b[0;32m-> 2326\u001b[0;31m                 \u001b[0mresult\u001b[0m \u001b[0;34m=\u001b[0m \u001b[0mfn\u001b[0m\u001b[0;34m(\u001b[0m\u001b[0;34m*\u001b[0m\u001b[0margs\u001b[0m\u001b[0;34m,\u001b[0m \u001b[0;34m**\u001b[0m\u001b[0mkwargs\u001b[0m\u001b[0;34m)\u001b[0m\u001b[0;34m\u001b[0m\u001b[0;34m\u001b[0m\u001b[0m\n\u001b[0m\u001b[1;32m   2327\u001b[0m             \u001b[0;32mreturn\u001b[0m \u001b[0mresult\u001b[0m\u001b[0;34m\u001b[0m\u001b[0;34m\u001b[0m\u001b[0m\n\u001b[1;32m   2328\u001b[0m \u001b[0;34m\u001b[0m\u001b[0m\n",
      "\u001b[0;32m<decorator-gen-59>\u001b[0m in \u001b[0;36mrun\u001b[0;34m(self, parameter_s, runner, file_finder)\u001b[0m\n",
      "\u001b[0;32m/usr/lib/python3.9/site-packages/IPython/core/magic.py\u001b[0m in \u001b[0;36m<lambda>\u001b[0;34m(f, *a, **k)\u001b[0m\n\u001b[1;32m    185\u001b[0m     \u001b[0;31m# but it's overkill for just that one bit of state.\u001b[0m\u001b[0;34m\u001b[0m\u001b[0;34m\u001b[0m\u001b[0;34m\u001b[0m\u001b[0m\n\u001b[1;32m    186\u001b[0m     \u001b[0;32mdef\u001b[0m \u001b[0mmagic_deco\u001b[0m\u001b[0;34m(\u001b[0m\u001b[0marg\u001b[0m\u001b[0;34m)\u001b[0m\u001b[0;34m:\u001b[0m\u001b[0;34m\u001b[0m\u001b[0;34m\u001b[0m\u001b[0m\n\u001b[0;32m--> 187\u001b[0;31m         \u001b[0mcall\u001b[0m \u001b[0;34m=\u001b[0m \u001b[0;32mlambda\u001b[0m \u001b[0mf\u001b[0m\u001b[0;34m,\u001b[0m \u001b[0;34m*\u001b[0m\u001b[0ma\u001b[0m\u001b[0;34m,\u001b[0m \u001b[0;34m**\u001b[0m\u001b[0mk\u001b[0m\u001b[0;34m:\u001b[0m \u001b[0mf\u001b[0m\u001b[0;34m(\u001b[0m\u001b[0;34m*\u001b[0m\u001b[0ma\u001b[0m\u001b[0;34m,\u001b[0m \u001b[0;34m**\u001b[0m\u001b[0mk\u001b[0m\u001b[0;34m)\u001b[0m\u001b[0;34m\u001b[0m\u001b[0;34m\u001b[0m\u001b[0m\n\u001b[0m\u001b[1;32m    188\u001b[0m \u001b[0;34m\u001b[0m\u001b[0m\n\u001b[1;32m    189\u001b[0m         \u001b[0;32mif\u001b[0m \u001b[0mcallable\u001b[0m\u001b[0;34m(\u001b[0m\u001b[0marg\u001b[0m\u001b[0;34m)\u001b[0m\u001b[0;34m:\u001b[0m\u001b[0;34m\u001b[0m\u001b[0;34m\u001b[0m\u001b[0m\n",
      "\u001b[0;32m/usr/lib/python3.9/site-packages/IPython/core/magics/execution.py\u001b[0m in \u001b[0;36mrun\u001b[0;34m(self, parameter_s, runner, file_finder)\u001b[0m\n\u001b[1;32m    712\u001b[0m             \u001b[0;32mif\u001b[0m \u001b[0mos\u001b[0m\u001b[0;34m.\u001b[0m\u001b[0mname\u001b[0m \u001b[0;34m==\u001b[0m \u001b[0;34m'nt'\u001b[0m \u001b[0;32mand\u001b[0m \u001b[0mre\u001b[0m\u001b[0;34m.\u001b[0m\u001b[0mmatch\u001b[0m\u001b[0;34m(\u001b[0m\u001b[0;34mr\"^'.*'$\"\u001b[0m\u001b[0;34m,\u001b[0m\u001b[0mfpath\u001b[0m\u001b[0;34m)\u001b[0m\u001b[0;34m:\u001b[0m\u001b[0;34m\u001b[0m\u001b[0;34m\u001b[0m\u001b[0m\n\u001b[1;32m    713\u001b[0m                 \u001b[0mwarn\u001b[0m\u001b[0;34m(\u001b[0m\u001b[0;34m'For Windows, use double quotes to wrap a filename: %run \"mypath\\\\myfile.py\"'\u001b[0m\u001b[0;34m)\u001b[0m\u001b[0;34m\u001b[0m\u001b[0;34m\u001b[0m\u001b[0m\n\u001b[0;32m--> 714\u001b[0;31m             \u001b[0;32mraise\u001b[0m \u001b[0mException\u001b[0m\u001b[0;34m(\u001b[0m\u001b[0mmsg\u001b[0m\u001b[0;34m)\u001b[0m\u001b[0;34m\u001b[0m\u001b[0;34m\u001b[0m\u001b[0m\n\u001b[0m\u001b[1;32m    715\u001b[0m         \u001b[0;32mexcept\u001b[0m \u001b[0mTypeError\u001b[0m\u001b[0;34m:\u001b[0m\u001b[0;34m\u001b[0m\u001b[0;34m\u001b[0m\u001b[0m\n\u001b[1;32m    716\u001b[0m             \u001b[0;32mif\u001b[0m \u001b[0mfpath\u001b[0m \u001b[0;32min\u001b[0m \u001b[0msys\u001b[0m\u001b[0;34m.\u001b[0m\u001b[0mmeta_path\u001b[0m\u001b[0;34m:\u001b[0m\u001b[0;34m\u001b[0m\u001b[0;34m\u001b[0m\u001b[0m\n",
      "\u001b[0;31mException\u001b[0m: File `'../Exemplos/script_01.py'` not found."
     ]
    }
   ],
   "source": [
    "# Executando o exemplo anterior numa célula de cóigo\n",
    "a = 1\n",
    "b = 2\n",
    "c = a+b\n",
    "print(\"a + b = \", a, \" + \", b, \" = c = \", c)\n",
    "print(\"__________________\")\n",
    "# Executando o mesmo códigoa a partir do script script_o1.py\n",
    "%run ../Exemplos/script_01.py\n",
    "print(\"__________________\")\n",
    "# Executando o script Hello_World.py\n",
    "%run ../Exemplos/Hello_World.py"
   ]
  },
  {
   "cell_type": "markdown",
   "metadata": {},
   "source": [
    "## Uma revisão rápida da sintaxes de Python ##\n",
    "\n",
    "Vamos começar abordando sintaxe de __Python__. A Sintaxe refere-se à estrutura da linguagem. A linguagem de programação __Python__ se caracteriza por uma sintaxe simples que facilita a adoção tanto por programadores avançados quanto por iniciantes. Para alguns esta sintaxe apresenta uma implementação tão limpa que é comparada com a dos pseudocódigos.\n",
    "\n",
    "Veja o seguinte exemplo:"
   ]
  },
  {
   "cell_type": "code",
   "execution_count": 3,
   "metadata": {},
   "outputs": [
    {
     "name": "stdout",
     "output_type": "stream",
     "text": [
      "menores: [0, 1, 2, 3, 4]\n",
      "maiores: [5, 6, 7, 8, 9]\n"
     ]
    }
   ],
   "source": [
    "# definindo o ponto médio \n",
    "pontoMedio = 5\n",
    "\n",
    "# criando duas listas vazias\n",
    "menores = []; maiores = []\n",
    "\n",
    "# Separando os números entre menores e maiores\n",
    "for i in range(10):\n",
    "    if(i < pontoMedio):\n",
    "        menores.append(i)\n",
    "    else:\n",
    "        maiores.append(i)\n",
    "\n",
    "print(\"menores:\", menores)\n",
    "print(\"maiores:\", maiores)"
   ]
  },
  {
   "cell_type": "markdown",
   "metadata": {},
   "source": [
    "Deste pequeno exemplo podemos extrair alguns aspectos importantes da linguagem\n",
    "\n",
    "### Comentários em Python ###\n",
    "\n",
    "Comentários em __Python__ são indicados pelo jogo da velha (``#``) e qualquer caractere na mesma linha, após este símbolo, sera ignorado pelo interpretador. Desta forma comentários podem estar na forma de uma linha separada ou no final de uma linha de código, como no exemplo a seguir."
   ]
  },
  {
   "cell_type": "code",
   "execution_count": 4,
   "metadata": {},
   "outputs": [],
   "source": [
    "# Exemplos de comentários \n",
    "x = 0           # Operador de atribuição\n",
    "x = x + 2       # Operadores de atribuição e de adição\n",
    "x += 3          # Operador composto de atribuição a adição, equivalente a x = x + 3  "
   ]
  },
  {
   "cell_type": "markdown",
   "metadata": {},
   "source": [
    "### Fim de linha encerra uma declaração ###\n",
    "Repare que na primeira linha do exemplo anterior é atribuída à variável ``x`` o valor ``0``. A declaração termina simplesmente com o fim de linha, ao contrário de outras linguagens como __C__ onde um finalizador (``;``) é necessário. Naqueles casos particulares em que se faz necessário continuar a declaração na próxima linha, pode-se utilizar o ``\\`` , como no exemplo a seguir."
   ]
  },
  {
   "cell_type": "code",
   "execution_count": 5,
   "metadata": {},
   "outputs": [],
   "source": [
    "x = 1 + 2 + 3 + 4 + \\\n",
    "5 + 6 + 7 + 8"
   ]
  },
  {
   "cell_type": "markdown",
   "metadata": {},
   "source": [
    "A declaração anterior também pode ser implementada em múltiplas linha com a utilização de parênteses. "
   ]
  },
  {
   "cell_type": "code",
   "execution_count": 6,
   "metadata": {},
   "outputs": [],
   "source": [
    "x = (1 + 2 + 3 + 4 +\n",
    "     5 + 6 + 7 + 8)"
   ]
  },
  {
   "cell_type": "markdown",
   "metadata": {},
   "source": [
    "De forma Geral, recomenda-se a adoção dos parenteses como uma prática mais apropriada. Para quem sentir saudades do ``;``, ele pode ser utilizado para finalizar uma declaração e começar outra na mesma linha, como na declaração das listas no exemplo inicial.\n",
    "\n",
    "### Uso de indentação ###\n",
    "\n",
    "Se prestar atenção no bloco principal do primeiro exemplo pode-se constatar que fazem parte do mesmo uma estrutura de repetição (``for``) e uma estrutura condicional (``if/else``). Trata-se de um conjunto de instruções que podem ser tratadas como uma unidade ou bloco de código. Em linguagens como __C__ os blocos de código são definidos por delimitadores específicos como as chaves ``{}``. Em __Python__ os blocos sintáticos são demarcados utilizando indentação. Os blocos de código recuados, em relação à margem da linha anterior, são sempre precedidos por dois pontos (``:``) no final da linha.\n",
    "\n",
    "### Uso de espaço ###\n",
    "\n",
    "O espaço em branco antes do começo da linha (recuo da margem) é utilizado para indentação e tem um significado específico na linguagem: linhas recuadas pertencem a um bloco sintáctico. Já o espaço no interior da linha não tem um significado específico mas pode ser utilizado para melhorar a legibilidade do código. De forma geral os programadores __Python__ recomendam utilizar um espaço antes e depois de cada operador binário e nenhum espaço em operadores unários. \n",
    "\n",
    "### Uso de parênteses ###\n",
    "\n",
    "Os parênteses podem ser utilizados em diversos contextos. Como em outras linguagens, por exemplo, podem servir para agrupar declarações ou operações matemáticas, definindo a ordem em que serão realizadas as operações. Veja a diferença entre as duas expressões utilizadas a seguir."
   ]
  },
  {
   "cell_type": "code",
   "execution_count": 7,
   "metadata": {},
   "outputs": [
    {
     "data": {
      "text/plain": [
       "23"
      ]
     },
     "execution_count": 7,
     "metadata": {},
     "output_type": "execute_result"
    }
   ],
   "source": [
    "# Operações acontecem de acordo com a precedência dos operadores\n",
    "x = 3 + 4 * 5\n",
    "x"
   ]
  },
  {
   "cell_type": "code",
   "execution_count": 8,
   "metadata": {},
   "outputs": [
    {
     "data": {
      "text/plain": [
       "35"
      ]
     },
     "execution_count": 8,
     "metadata": {},
     "output_type": "execute_result"
    }
   ],
   "source": [
    "# Parênteses define que a soma acontece primeiro \n",
    "x = (3 + 4) * 5\n",
    "x"
   ]
  },
  {
   "cell_type": "markdown",
   "metadata": {},
   "source": [
    "No primeiro caso o interpretador utiliza a precedência dos operadores para, primeiramente, multiplicar (``4 * 5 -> 20``) e depois adicionar (``20 + 3 -> 23``). No segundo caso agrupamos a operação de adição, que é realizada primeiro (``3 + 4 -> 7``), para depois realizar a multiplicação (``7 * 5 -> 35``).\n",
    "\n",
    "Em outros casos parênteses podem ser utilizados para especificar que se esta fazendo o chamando a uma função. Os parênteses que seguem ao nome da função contém os argumentos da mesma. Em casos específicos, em que a função não precisa de passagem de parâmetros, também devem ser utilizados os parênteses. Veja os exemplos a seguir."
   ]
  },
  {
   "cell_type": "code",
   "execution_count": 9,
   "metadata": {},
   "outputs": [
    {
     "name": "stdout",
     "output_type": "stream",
     "text": [
      "Lista original:  [5, 3, 9, 2, 6, 4]\n",
      "Lista ordenada:  [2, 3, 4, 5, 6, 9]\n"
     ]
    }
   ],
   "source": [
    "L = [5, 3, 9, 2, 6, 4]\n",
    "print(\"Lista original: \", L) # Exemplo de função com parâmetros\n",
    "L.sort()                     # Exemplo de função sem parâmetros \n",
    "print(\"Lista ordenada: \", L)"
   ]
  },
  {
   "cell_type": "markdown",
   "metadata": {},
   "source": [
    "Repare que **print** é uma função que espera argumentos, o que desejamos imprimir. Já **sort** é uma função específica de listas que não recebe parâmetros. \n",
    "\n",
    "* __Leituras recomendadas__: Uma leitura interessante para quem quiser utilizar uma sintaxes padronizada é [PEP 8 -- Style Guide for Python Code](https://www.python.org/dev/peps/pep-0008/ PEP 8 -- Style Guide for Python Code)\n",
    "\n",
    "# Python: Variáveis e Objetos #\n",
    "\n",
    "Trabalhar com variáveis em __Python__ é mais simples do que em outras linguagens de programação. Para atribuir um valor a uma variável basta apenas declarar o nome da mesma a esquerda seguido pelo operador de atribuição (=) e o valor a ser atribuído. \n",
    "\n",
    "Oficialmente, os nomes de variáveis no __Python__ podem ter qualquer tamanho e podem consistir em letras maiúsculas e minúsculas (``A-Z, a-z``), dígitos (``0-9``) e o caractere sublinhado (``_``). Uma restrição adicional é que, embora um nome de variável possa conter dígitos, o primeiro caractere de um nome de variável não pode ser um dígito.\n",
    "\n",
    "Em linguagens mais tradicionais, como __C/C++__, as variáveis podem ser pensadas como um receptáculo de tamanho específico, de acordo com o tipo da variável. Desta forma, antes de atribuir qualquer valor, sempre se faz necessário declarar a variável, ou seja, definir o tipo dela( o tamanho do receptáculo). Em __Python__ as variáveis podem ser interpretadas como um ponteiro para um receptáculo adequado pra armazenar o valor que é atribuído à mesma. Desta forma não é necessário \"declarar\" a variável (definir o tipo por exemplo), o mesmo exigir que uma variável sempre aponte para um mesmo tipo de receptáculo. Veja o exemplo a seguir."
   ]
  },
  {
   "cell_type": "code",
   "execution_count": 10,
   "metadata": {
    "scrolled": false
   },
   "outputs": [
    {
     "name": "stdout",
     "output_type": "stream",
     "text": [
      "x aponta para um inteiro: x =  1\n",
      "x aponta agora para uma string: x =  oi\n",
      "x aponta para uma lista: x =  [1, 2, 3, 'oi']\n"
     ]
    }
   ],
   "source": [
    "# Atribuir a x o valor inteiro 1\n",
    "x = 1             # x aponta para um inteiro\n",
    "print(\"x aponta para um inteiro: x = \", x)\n",
    "# Atribuir agora a x a string 'oi'\n",
    "x = 'oi'          # x aponta para uma string\n",
    "print(\"x aponta agora para uma string: x = \", x)\n",
    "# Atribuir novamente a x uma lista\n",
    "x = [1, 2, 3, x]     # x aponta para uma lista\n",
    "print(\"x aponta para uma lista: x = \", x)"
   ]
  },
  {
   "cell_type": "markdown",
   "metadata": {},
   "source": [
    "Podemos então definir __Python__ como uma linguagem dinamicamente tipada. Esta escolha pode ser elencada como uma das características que fazem da linguagem uma das mais simples e eficientes de se utilizar. Mas tratar variáveis como ponteiros tem suas consequências. Veja o exemplo a seguir e tire suas próprias conclusões."
   ]
  },
  {
   "cell_type": "code",
   "execution_count": 11,
   "metadata": {},
   "outputs": [
    {
     "name": "stdout",
     "output_type": "stream",
     "text": [
      "Como podemos ver x =  [1, 2, 3]\n",
      "e y =  [1, 2, 3]\n",
      "apontam para a mesma lista.\n",
      "Ou seja, se modificarmos a lista que referenciamos em x ...\n",
      "estamos modificando a lista referenciada por y \n",
      " y =  [1, 2, 3, 4]\n",
      "Agora, se modificamos receptáculo para o qual x esta apontando ...\n",
      "A variável y continua apontando para y =  [1, 2, 3, 4]\n",
      "Ao contrario de x =  Agora é uma string\n"
     ]
    }
   ],
   "source": [
    "x = [1, 2, 3]          # x aponta para uma lista\n",
    "y = x                  # y aponta para a mesma lista que x\n",
    "print(\"Como podemos ver x = \", x)\n",
    "print(\"e y = \", y)\n",
    "print(\"apontam para a mesma lista.\")\n",
    "print(\"Ou seja, se modificarmos a lista que referenciamos em x ...\")\n",
    "x.append(4)            # acrescentando um elemento na lista\n",
    "print(\"estamos modificando a lista referenciada por y \")\n",
    "print(\" y = \", y)\n",
    "print(\"Agora, se modificamos receptáculo para o qual x esta apontando ...\")\n",
    "x = \"Agora é uma string\"\n",
    "print(\"A variável y continua apontando para y = \", y)\n",
    "print(\"Ao contrario de x = \", x)"
   ]
  },
  {
   "cell_type": "markdown",
   "metadata": {},
   "source": [
    "Os objetos ou tipos de dados nativos de __Python__ podem ser classificados em dois grupos:\n",
    "* __Imutáveis__: tipos numéricos, strings e tuplas;\n",
    "* __Mutáveis__: listas, dicionários  e conjuntos;\n",
    "\n",
    "Isto significa que, para simplificar o tratamento das operações aritméticas, em __Python__ os números, strings e outros tipos de variáveis simples são tratados como __imutáveis__, ou seja, que não conseguimos mudar os valores armazenados nelas, mas podemos modificar qual espaço da memória que está sendo referenciado. Veja o exemplo a seguir."
   ]
  },
  {
   "cell_type": "code",
   "execution_count": 12,
   "metadata": {},
   "outputs": [
    {
     "name": "stdout",
     "output_type": "stream",
     "text": [
      "Inicialmente x =  1\n",
      "e y =  1\n",
      "Após incrementar x em 1 temos que ...\n",
      "agora x =  2\n",
      "enquanto y =  1\n"
     ]
    }
   ],
   "source": [
    "x = 1          # x referência um inteiro de valor 1\n",
    "y = x          # y referência o mesmo espaço na memória\n",
    "print(\"Inicialmente x = \", x)\n",
    "print(\"e y = \", y)\n",
    "print(\"Após incrementar x em 1 temos que ...\")\n",
    "x += 1         # incrementando x em 1\n",
    "print(\"agora x = \", x)\n",
    "print(\"enquanto y = \", y)\n"
   ]
  },
  {
   "cell_type": "markdown",
   "metadata": {},
   "source": [
    "\n",
    "## Todas as variáveis são Objetos ##\n",
    "\n",
    "Podemos anotar num cantinho acessível do caderno: Em __Python__, uma linguagem de programação orientada a objetos, todo é representado por objetos. Se alguém teve até aqui a ideia de que __Python__ é uma linguagem livre de tipos ou fracamente tipada, pode mudar seus conceitos a respeito. Veja o seguinte exemplo que utiliza tipos simples.  "
   ]
  },
  {
   "cell_type": "code",
   "execution_count": 13,
   "metadata": {},
   "outputs": [
    {
     "name": "stdout",
     "output_type": "stream",
     "text": [
      "x =  4\n",
      "Tipo de x:  <class 'int'>\n",
      "y =  Oi\n",
      "Tipo de y:  <class 'str'>\n",
      "pi =  3.1415\n",
      "Tipo de pi:  <class 'float'>\n"
     ]
    }
   ],
   "source": [
    "x = 4                         # x referencia um objeto\n",
    "print(\"x = \",x)\n",
    "print(\"Tipo de x: \",type(x))  # de qual tipo?\n",
    "y = 'Oi'                      # y referencia outro objeto\n",
    "print(\"y = \",y)\n",
    "print(\"Tipo de y: \",type(y))  # de qual tipo?\n",
    "pi = 3.1415                   # agora temos a variável pi\n",
    "print(\"pi = \",pi)\n",
    "print(\"Tipo de pi: \",type(pi))# de qual tipo?\n"
   ]
  },
  {
   "cell_type": "markdown",
   "metadata": {},
   "source": [
    "Ou seja __Python__ tem tipos fortes, bem definidos, que não estão vinculadas às variáveis, sempre ponteiros ou referências genéricas, mas aos objetos que elas referenciam. Temos então que toda variável aponta para uma entidade, que chamamos de objeto, composta por dados, que chamamos de __atributos__, e funcionalidades, que chamamos de __métodos__. Os atributos e métodos de um objeto são acessados utilizando notação específica baseada no uso de ponto (``.``). Já vimos alguns exemplos, como o caso das listas que utilizamos anteriormente. Mas para ficar mais claro veja neste exemplo como tipos básicos são tratados como objetos em __Python__."
   ]
  },
  {
   "cell_type": "code",
   "execution_count": 14,
   "metadata": {},
   "outputs": [
    {
     "name": "stdout",
     "output_type": "stream",
     "text": [
      "O valor de x =  3.14\n",
      "O tipo de x é <class 'float'>\n",
      "Quem lembra de números complexos ou imaginarios, conjunto do qual os números reais são um subconjunto?\n",
      "3.14 + 0.0 i\n",
      "O tipo de x continua:  <class 'float'>\n",
      "Podemos testar também os métodos desta clase\n",
      "Por exemplo: x é um valor inteiro?  False\n",
      "Mas se mudamos o valor de x para x =  4.0\n",
      "Agora: x armazena um valorum inteiro?  True\n"
     ]
    }
   ],
   "source": [
    "x = 3.14\n",
    "print(\"O valor de x = \", x)\n",
    "print(\"O tipo de x é\", type(x))\n",
    "print(\"Quem lembra de números complexos ou imaginarios, conjunto do qual os números reais são um subconjunto?\")\n",
    "print(x.real, \"+\", x.imag, \"i\")\n",
    "print(\"O tipo de x continua: \", type(x))\n",
    "print(\"Podemos testar também os métodos desta clase\")\n",
    "print(\"Por exemplo: x é um valor inteiro? \", x.is_integer())\n",
    "x = 4.0\n",
    "print(\"Mas se mudamos o valor de x para x = \", x)\n",
    "print(\"Agora: x armazena um valorum inteiro? \", x.is_integer())"
   ]
  },
  {
   "cell_type": "markdown",
   "metadata": {},
   "source": [
    "A afirmação \"_todo em __Python__ é objeto_\" pode ser estendida aos atributos e métodos de uma classe que são, por sua vez, objetos com seus próprios atributos  métodos. Por exemplo:"
   ]
  },
  {
   "cell_type": "code",
   "execution_count": 15,
   "metadata": {},
   "outputs": [
    {
     "data": {
      "text/plain": [
       "builtin_function_or_method"
      ]
     },
     "execution_count": 15,
     "metadata": {},
     "output_type": "execute_result"
    }
   ],
   "source": [
    "type(x.is_integer)"
   ]
  },
  {
   "cell_type": "markdown",
   "metadata": {},
   "source": [
    "# Python: Operadores #\n",
    "\n",
    "Após esclarecermos de forma resumida como se trabalha com variáveis em __Python__, fica em aberto a pergunta: que operações estão disponíveis para processar os dados armazenados nestas variáveis? \n",
    "\n",
    "## Operações aritméticas ##\n",
    "\n",
    "Em __Python__ são implementados um conjunto básico de operadores binários e unários, comumente utilizadas em outras linguagens, para trabalhar com tipos numéricos. \n",
    "\n",
    "\n",
    "| Operador     | Nome             | Descrição                                                 |\n",
    "|--------------|------------------|-----------------------------------------------------------|\n",
    "| ``a + b``    | Adição           | Soma de ``a`` e ``b``                                     |\n",
    "| ``a - b``    | Subtração        | Diferença entre ``a`` e ``b``                             |\n",
    "| ``a * b``    | Multiplicação    | Produto de ``a`` e ``b``                                 |\n",
    "| ``a / b``    | Divisão real     | Quociente de ``a`` e ``b``                                |\n",
    "| ``a // b``   | Divisão truncada | Quociente de ``a`` e ``b``, removendo a parte fracionária |\n",
    "| ``a % b``    | Módulo           | Resto inteiro da divisão de ``a`` por ``b``               |\n",
    "| ``a ** b``   | Exponenciação    | ``a`` elevado à potência de ``b``                         |\n",
    "| ``-a``       | Negativo         | O negativo de ``a``                                  |\n",
    "\n",
    "Estes operadores pode ser utilizado de forma individual ou combinados e agrupados pelas regras de precedência ou utilizando parênteses. Importante reparar na diferença entre a divisão real e a truncada, recurso que foi introduzido em __Python 3__. Em __Python 2__ o operador divisão é apenas um e se comporta como divisão truncada quando usada com inteiros, e como divisão real quando envolve variáveis de ponto flutuante."
   ]
  },
  {
   "cell_type": "code",
   "execution_count": 16,
   "metadata": {},
   "outputs": [
    {
     "name": "stdout",
     "output_type": "stream",
     "text": [
      "1 / 3     ->  0.3333333333333333\n",
      "6 / 3     ->  2.0\n",
      "7 / 3     ->  2.3333333333333335\n",
      "1 / 3.0   ->  0.3333333333333333\n",
      "6.0 / 3   ->  2.0\n",
      "7.0 / 3.0 ->  2.3333333333333335\n"
     ]
    }
   ],
   "source": [
    "#Divisão real\n",
    "print(\"1 / 3     -> \", 1 / 3)\n",
    "print(\"6 / 3     -> \", 6 / 3)\n",
    "print(\"7 / 3     -> \", 7 / 3)\n",
    "print(\"1 / 3.0   -> \", 1 / 3.0)\n",
    "print(\"6.0 / 3   -> \" , 6.0 / 3)\n",
    "print(\"7.0 / 3.0 -> \", 7.0 / 3.0)"
   ]
  },
  {
   "cell_type": "code",
   "execution_count": 17,
   "metadata": {},
   "outputs": [
    {
     "name": "stdout",
     "output_type": "stream",
     "text": [
      "1 // 3     ->  0\n",
      "6 // 3     ->  2\n",
      "7 // 3     ->  2\n",
      "1 // 3.0   ->  0.0\n",
      "6.0 // 3   ->  2.0\n",
      "7.0 // 3.0 ->  2.0\n"
     ]
    }
   ],
   "source": [
    "#Divisão truncada\n",
    "print(\"1 // 3     -> \", 1 // 3)\n",
    "print(\"6 // 3     -> \", 6 // 3)\n",
    "print(\"7 // 3     -> \", 7 // 3)\n",
    "print(\"1 // 3.0   -> \", 1 // 3.0)\n",
    "print(\"6.0 // 3   -> \" , 6.0 // 3)\n",
    "print(\"7.0 // 3.0 -> \", 7.0 // 3.0)"
   ]
  },
  {
   "cell_type": "markdown",
   "metadata": {},
   "source": [
    "## Operadores bit a bit ##\n",
    "\n",
    "Complementando os operadores aritméticos, __Python__ define um conjunto de operadores que permitem trabalhar operações lógicas bit a bit em variáveis inteiras.\n",
    "\n",
    "| Operador     | Nome            | Descrição                                 |\n",
    "|--------------|-----------------|---------------------------------------------|\n",
    "| ``a & b``    | AND bit a bit   | Bits igualmente definidos em ``a`` e ``b``        |\n",
    "| <code>a &#124; b</code>| OR bit a bit   | Bits definidos em ``a`` ou em ``b`` ou em ambos |\n",
    "| ``a ^ b``    | XOR bit a bit   | Bits definidos em ``a`` ou em ``b`` mas não em ambos     |\n",
    "| ``a << b``   | Deslocamento à esquerda | Desloca os bits de ``a`` à esquerda ``b`` unidades     |\n",
    "| ``a >> b``   | Deslocamento à direita | Desloca os bits de ``a`` à direita ``b`` unidades    |\n",
    "| ``~a``       | NOT bit a bit     | Negação bit a bit de ``a``                          |\n",
    "\n",
    "Os operadores bit a bit somente fazem sentido quando trabalhamos a representação em binário dos números. Neste caso podemos trabalhar os bits individualmente de forma bastante eficiente. \n",
    "\n",
    "Imaginemos que cada um dos bits de um inteiro representam pinos ativos ou inativos numa porta de entrada de dados de um hardware específico."
   ]
  },
  {
   "cell_type": "code",
   "execution_count": 18,
   "metadata": {},
   "outputs": [
    {
     "name": "stdout",
     "output_type": "stream",
     "text": [
      "P1 0b1111000\n"
     ]
    }
   ],
   "source": [
    "# Quais pinos estão ativos na porta P1 que retorna a sequencia 120?\n",
    "P1 = 120\n",
    "print(\"P1\", bin(P1))"
   ]
  },
  {
   "cell_type": "code",
   "execution_count": 19,
   "metadata": {},
   "outputs": [
    {
     "name": "stdout",
     "output_type": "stream",
     "text": [
      "P2 0b111111\n"
     ]
    }
   ],
   "source": [
    "# Quais pinos estão ativos na porta P2 que retorna a sequencia 63?\n",
    "P2 = 63\n",
    "print(\"P2\", bin(P2))"
   ]
  },
  {
   "cell_type": "code",
   "execution_count": 20,
   "metadata": {},
   "outputs": [
    {
     "name": "stdout",
     "output_type": "stream",
     "text": [
      "Pinos ativos simultaneamente  56\n",
      "P1andP2  0b111000\n"
     ]
    }
   ],
   "source": [
    "# Quais pinos estão ativos simultaneamente nas duas portas?\n",
    "P1andP2 = P1 & P2\n",
    "print(\"Pinos ativos simultaneamente \", P1andP2)\n",
    "print(\"P1andP2 \", bin(P1andP2))"
   ]
  },
  {
   "cell_type": "code",
   "execution_count": 21,
   "metadata": {},
   "outputs": [
    {
     "name": "stdout",
     "output_type": "stream",
     "text": [
      "Pinos ativos em alguma das duas portas  127\n",
      "P1orP2  0b1111111\n"
     ]
    }
   ],
   "source": [
    "# Quais pinos estão ativos em um das duas portas?\n",
    "P1orP2 = P1 | P2\n",
    "print(\"Pinos ativos em alguma das duas portas \", P1orP2)\n",
    "print(\"P1orP2 \", bin(P1orP2))"
   ]
  },
  {
   "cell_type": "code",
   "execution_count": 22,
   "metadata": {},
   "outputs": [
    {
     "name": "stdout",
     "output_type": "stream",
     "text": [
      "Pinos ativos exclusivamente em uma das duas portas  71\n",
      "P1xorP2  0b1000111\n"
     ]
    }
   ],
   "source": [
    "# Quais pinos estão ativos em uma ou em outra porta mas não em ambas?\n",
    "P1xorP2 = P1^P2\n",
    "print(\"Pinos ativos exclusivamente em uma das duas portas \", P1xorP2)\n",
    "print(\"P1xorP2 \", bin(P1xorP2))"
   ]
  },
  {
   "cell_type": "markdown",
   "metadata": {},
   "source": [
    "## Operador de atribuição\n",
    "\n",
    "\n",
    "Até agora utilizamos o operador ``=``, de forma natural, como operador de atribuição. Quando utilizado em conjunto com os operadores binários, apresentados anteriormente, o operador de atribuição funciona como um operador composto. Ou seja: para cada operador binário ``#``, é possível substituir a operação ``a = a # b`` por ``a #= b``. Desta forma é possível:"
   ]
  },
  {
   "cell_type": "code",
   "execution_count": 23,
   "metadata": {},
   "outputs": [
    {
     "name": "stdout",
     "output_type": "stream",
     "text": [
      "a =  0\n",
      "a =  1\n",
      "a =  2\n"
     ]
    }
   ],
   "source": [
    "# Quando queremos contar alguma coisa \n",
    "a = 0\n",
    "print(\"a = \", a)\n",
    "# substituir\n",
    "a = a + 1\n",
    "print(\"a = \", a)\n",
    "# por uma versão mais curta\n",
    "a += 1\n",
    "print(\"a = \", a)"
   ]
  },
  {
   "cell_type": "markdown",
   "metadata": {},
   "source": [
    "## Operadores lógicos e relacionais\n",
    "\n",
    "Para trabalhar expressões de comparação é possível utilizar, em __Python__, o seguinte conjunto de operadores\n",
    "\n",
    "\n",
    "| Operação      | Descrição                         || Operação      | Descrição                            |\n",
    "|---------------|-----------------------------------||---------------|--------------------------------------|\n",
    "| ``a == b``    | ``a`` igual a ``b``               || ``a != b``    | ``a`` diferente de ``b``             |\n",
    "| ``a < b``     | ``a`` menor que ``b``             || ``a > b``     | ``a`` maior que ``b``                |\n",
    "| ``a <= b``    | ``a`` menor ou igual que ``b``    || ``a >= b``    | ``a`` maior ou igual que ``b``       |\n",
    "\n",
    "\n",
    "Os operadores relacionais retornam valores boolianos, ou seja, True ou False. Para trabalhar as operações de álgebra booliana estão implementados os operadores básicos __and__, __or__ e __not__. O operador __xor__ lógico não está explicitamente definido na linguagem."
   ]
  },
  {
   "cell_type": "code",
   "execution_count": 24,
   "metadata": {},
   "outputs": [
    {
     "name": "stdout",
     "output_type": "stream",
     "text": [
      "x é igual a 8? ->  False\n",
      "então x é diferente de 8 ->  True\n",
      "x é menor que 8? ->  True\n",
      "então x não é maior 8 ->  False\n",
      "x é maior que 3 e menor que 10? ->  True\n",
      "x é par? False\n",
      "x é maior que 3 ou menor que 10? ->  True\n"
     ]
    }
   ],
   "source": [
    "x = 5\n",
    "print(\"x é igual a 8? -> \", x == 8)\n",
    "print(\"então x é diferente de 8 -> \", x != 8)\n",
    "print(\"x é menor que 8? -> \", x < 8)\n",
    "print(\"então x não é maior 8 -> \", x > 8)\n",
    "print(\"x é maior que 3 e menor que 10? -> \", (x > 3) and (x < 10) )\n",
    "print(\"x é par?\", x % 2 == 0)\n",
    "print(\"x é maior que 3 ou menor que 10? -> \", (x > 3) or (x < 10) )"
   ]
  },
  {
   "cell_type": "markdown",
   "metadata": {},
   "source": [
    "## Operadores especiais\n",
    "\n",
    "Destaque para estes operadores que serão muito utilizados\n",
    "\n",
    "| Operador      | Descrição                                         |\n",
    "|---------------|---------------------------------------------------|\n",
    "| ``a is b``    | True se ``a``  e``b`` são objetos idênticos       |\n",
    "| ``a is not b``| True se ``a`` e ``b`` não são objetos idênticos   |\n",
    "| ``a in b``    | True se ``a`` é membro do conjunto ``b``          |\n",
    "| ``a not in b``| True se ``a`` não é membro do conjunto ``b``      |\n",
    "\n",
    "Importante ressaltar que objetos idênticos não é a mesma coisa que objetos iguais. Veja o seguinte exemplo."
   ]
  },
  {
   "cell_type": "code",
   "execution_count": 25,
   "metadata": {},
   "outputs": [
    {
     "name": "stdout",
     "output_type": "stream",
     "text": [
      "1 - a é igual a b? True\n",
      "2 - a é idêntico a b? False\n",
      "3 - a é igual a b? True\n",
      "4 - a é idêntico a b? True\n"
     ]
    }
   ],
   "source": [
    "a = [1, 2, 3]\n",
    "b = [1, 2, 3]\n",
    "print(\"1 - a é igual a b?\", a == b)\n",
    "print(\"2 - a é idêntico a b?\", a is b)\n",
    "b = a\n",
    "print(\"3 - a é igual a b?\", a == b)\n",
    "print(\"4 - a é idêntico a b?\", a is b)"
   ]
  },
  {
   "cell_type": "markdown",
   "metadata": {},
   "source": [
    "# Tipos nativos da dados\n",
    "\n",
    "Vamos começar comentando os tipos nativos de dados mais simples.\n",
    "\n",
    "<center> Tipos Escalares </center>\n",
    "\n",
    "| Tipo        | Exemplo        | Descrição                                                  |\n",
    "|-------------|----------------|--------------------------------------------------------------|\n",
    "| ``int``     | ``x = 1``      | Números inteiros                                             |\n",
    "| ``float``   | ``x = 1.0``    | Números de ponto flutuante                                   |\n",
    "| ``complex`` | ``x = 1 + 2j`` | Números complexos                                            |\n",
    "| ``bool``    | ``x = True``   | Valores boolianos (True ou False)                            |\n",
    "| ``str``     | ``x = 'abc'``  | Cadeias de caracteres, Strings                               |\n",
    "| ``NoneType``| ``x = None``   | Objeto especial indicando null                               |\n",
    "\n",
    "Podemos falar um pouco mais sobre cada um destes tipos\n",
    "\n",
    "## Números Inteiros\n",
    "\n",
    "O tipo inteiros em __Python__ tem características importantes que o destacam de tipos equivalentes em outras linguagens. Para começo de conversa, as linguagens imperativas tradicionais tratam os tipos inteiros como valores de tamanho fixo e geram condições de _overflow_ para valores acima de determinado limite. Em __Python__ os inteiros têm tamanho variável e podemos, sem nenhum problema, utilizar valores muito grandes nas nossas contas como por exemplo:"
   ]
  },
  {
   "cell_type": "code",
   "execution_count": 26,
   "metadata": {},
   "outputs": [
    {
     "data": {
      "text/plain": [
       "1606938044258990275541962092341162602522202993782792835301376"
      ]
     },
     "execution_count": 26,
     "metadata": {},
     "output_type": "execute_result"
    }
   ],
   "source": [
    "2**200"
   ]
  },
  {
   "cell_type": "markdown",
   "metadata": {},
   "source": [
    "A diferença de outras linguagens mais tradicionais, a divisão envolvendo inteiros em __Python__, transformam o resultado da operação em um objeto numérico de ponto flutuante. Para preservar o valor da divisão no domínio dos inteiros precisamos utilizar a divisão truncada."
   ]
  },
  {
   "cell_type": "code",
   "execution_count": 27,
   "metadata": {},
   "outputs": [
    {
     "data": {
      "text/plain": [
       "0.3333333333333333"
      ]
     },
     "execution_count": 27,
     "metadata": {},
     "output_type": "execute_result"
    }
   ],
   "source": [
    "1 / 3"
   ]
  },
  {
   "cell_type": "code",
   "execution_count": 28,
   "metadata": {},
   "outputs": [
    {
     "data": {
      "text/plain": [
       "0"
      ]
     },
     "execution_count": 28,
     "metadata": {},
     "output_type": "execute_result"
    }
   ],
   "source": [
    "1 // 3"
   ]
  },
  {
   "cell_type": "markdown",
   "metadata": {},
   "source": [
    "## Números de Ponto Flutuante\n",
    "\n",
    "Os números de ponto flutuante podem ser representados em notação decimal tradicional ou em notação exponencial ou científica. Na notação exponencial se utiliza ``e`` ou ``E`` o que significa \"... vezes 10 elevado a ...\". Veja o exemplo a seguir."
   ]
  },
  {
   "cell_type": "code",
   "execution_count": 29,
   "metadata": {},
   "outputs": [
    {
     "name": "stdout",
     "output_type": "stream",
     "text": [
      "True\n"
     ]
    }
   ],
   "source": [
    "x = 0.00001\n",
    "y = 1e-5 # 1 * 10**-5\n",
    "print(x == y)"
   ]
  },
  {
   "cell_type": "markdown",
   "metadata": {},
   "source": [
    "Os valores ou variáveis inteiras podem ser transformados em ponto flutuante utilizando a técnica de _casting_ explícito:"
   ]
  },
  {
   "cell_type": "code",
   "execution_count": 30,
   "metadata": {},
   "outputs": [
    {
     "name": "stdout",
     "output_type": "stream",
     "text": [
      "a =  1\n",
      "Tipo de a:  <class 'int'>\n",
      "b =  1.0\n",
      "Tipo de b:  <class 'float'>\n",
      "c =  1.0\n",
      "Tipo de c:  <class 'float'>\n"
     ]
    }
   ],
   "source": [
    "# Convertindo um inteiro com casting explícito\n",
    "a = 1\n",
    "print(\"a = \", a)\n",
    "print(\"Tipo de a: \", type(a))\n",
    "b = float(a)                   # em C seria (float)a\n",
    "print(\"b = \", b)\n",
    "print(\"Tipo de b: \", type(b))\n",
    "c = float(1)\n",
    "print(\"c = \", c)\n",
    "print(\"Tipo de c: \", type(c))"
   ]
  },
  {
   "cell_type": "markdown",
   "metadata": {},
   "source": [
    "No que se refere a precisão a aritmética de ponto flutuante tem limitações que independem da linguagem utilizada. Veja o exemplo a seguir e comente."
   ]
  },
  {
   "cell_type": "code",
   "execution_count": null,
   "metadata": {},
   "outputs": [],
   "source": [
    "0.1 + 0.2 == 0.3"
   ]
  },
  {
   "cell_type": "code",
   "execution_count": null,
   "metadata": {},
   "outputs": [],
   "source": [
    "# Veja como são representados os valores anteriores\n",
    "print(\"0.1 = {0:.17f}\".format(0.1))\n",
    "print(\"0.2 = {0:.17f}\".format(0.2))\n",
    "print(\"0.3 = {0:.17f}\".format(0.3))"
   ]
  },
  {
   "cell_type": "markdown",
   "metadata": {},
   "source": [
    "Em __Python__ os números são truncados internamente em 52 bits após o primeiro bit diferente de zero. Devemos então levar em consideração que a aritmética de ponto flutuante é sempre aproximada e testes de igualdade estrita não são recomendados quando envolvidas este tipo de operações."
   ]
  },
  {
   "cell_type": "markdown",
   "metadata": {},
   "source": [
    "## Números Complexos\n",
    "\n",
    "Trata-se de números com parte real e imaginárias que podem ser definidos com valores inteiros ou de ponto flutuante. "
   ]
  },
  {
   "cell_type": "code",
   "execution_count": null,
   "metadata": {},
   "outputs": [],
   "source": [
    "# Podem ser definidos de duas formas\n",
    "a = complex(1,2)\n",
    "print(\" a = \", a)\n",
    "# ou\n",
    "b = 1.0 + 2.0j\n",
    "print(\" b = \", b)\n",
    "print(\"Parte real de a: \", a.real)\n",
    "print(\"Parte imaginária de b: \", b.imag)\n",
    "print(\"Magnitude de a: \", abs(a))\n",
    "print(\"Complexo conjugado de a: \", a.conjugate())\n",
    "print(\"a == b: \", a == b)"
   ]
  },
  {
   "cell_type": "markdown",
   "metadata": {},
   "source": [
    "## Cadeias de caracteres (Strings)\n",
    "\n",
    "Podemos definir uma _string_ em __Python__ utilizando aspas simples ou duplas. Os objetos de tipo _string_ tem uma serie de métodos implementados muito uteis. Veja os exemplos a seguir."
   ]
  },
  {
   "cell_type": "code",
   "execution_count": 32,
   "metadata": {},
   "outputs": [
    {
     "name": "stdout",
     "output_type": "stream",
     "text": [
      "Tamanho de disciplina:  34\n",
      "Professor:  ESBEL T. VALERO ORELLANA\n",
      "Disciplina:  cet1202 - algoritmos e programação\n",
      "Alguem tem dúvidas?\n",
      "CET1202 - Algoritmos e Programação em andamento\n",
      "+++++++++++++++++++++++++\n",
      "Código:  CET1202\n",
      "Isto é uma 'String' que contem aspas simples\n",
      "Agora a mesma \"String\" contem aspas duplas\n",
      "Não posso modificar objetos inmutáveis!!!\n",
      "CET1202 - Algoritmos e Programação\n"
     ]
    }
   ],
   "source": [
    "disciplina = \"CET1202 - Algoritmos e Programação\"\n",
    "professor = 'Esbel T. Valero Orellana'\n",
    "\n",
    "# Tamanho da string\n",
    "print(\"Tamanho de disciplina: \", len(disciplina))\n",
    "# transformando maiusculas e minusculas\n",
    "print(\"Professor: \", professor.upper())\n",
    "print(\"Disciplina: \", disciplina.lower())\n",
    "print(\"alguem tem dúvidas?\".capitalize())\n",
    "\n",
    "# Alguns operadores algebricos funcionam com Strings como:\n",
    "# Para concatenar strings\n",
    "print(disciplina + \" em andamento\")\n",
    "# Ou para repetir uma string\n",
    "print(5*\"+++++\")\n",
    "# Acessando os caracteres da string\n",
    "print(\"Código: \", disciplina[0:7])\n",
    "# Por que utilizar aspas simples ou duplas?\n",
    "stringComAspas = \"Isto é uma 'String' que contem aspas simples\"\n",
    "print(stringComAspas)\n",
    "stringComAspas = 'Agora a mesma \"String\" contem aspas duplas'\n",
    "print(stringComAspas)\n",
    "# As String são objetos inmutaveis então\n",
    "try:\n",
    "    disciplina[0] = professor[0]\n",
    "except:\n",
    "    print(\"Não posso modificar objetos inmutáveis!!!\")\n",
    "    print(disciplina)"
   ]
  },
  {
   "cell_type": "markdown",
   "metadata": {},
   "source": [
    "## Tipo None\n",
    "\n",
    "O tipo __None__ pode ser comparado, pela sua funcionalidade, ao tipo __void__ do __C/C++__. Pode ser utilizado em diversos contextos mas, de forma geral, uma da suas aplicações mais frequentes é como o tipo de retorno padrão das funções. Veja o exemplo da função ``print()``, lembrar que em __Python__ todo pode ser entendido como objeto."
   ]
  },
  {
   "cell_type": "code",
   "execution_count": 33,
   "metadata": {},
   "outputs": [
    {
     "name": "stdout",
     "output_type": "stream",
     "text": [
      "Alguma coisa\n",
      "None\n"
     ]
    }
   ],
   "source": [
    "valor_de_retorno = print(\"Alguma coisa\")\n",
    "print(valor_de_retorno)"
   ]
  },
  {
   "cell_type": "markdown",
   "metadata": {},
   "source": [
    "## Tipo Boolean\n",
    "\n",
    "As variáveis de tipo _boolean_ em __Python__ podem conter dois valores possíveis, ``True`` ou ``False``. Normalmente este é o tipo retornado pelos operadores relacionais. Variáveis _booleans_ também podem ser construídas via _casting_ explícito a partir de variáveis numéricas. Para os herdeiros de __C/C++__, qualquer valor numérico diferente de zero é convertido em ``True``. _Strings_ não vazias também geram ``True``. As _Strings_ vazias, a variável ``None`` e zero sempre são convertidos em ``False``."
   ]
  },
  {
   "cell_type": "code",
   "execution_count": 34,
   "metadata": {},
   "outputs": [
    {
     "name": "stdout",
     "output_type": "stream",
     "text": [
      "x > 4.0 ->  True\n",
      "b == 4 ->  False\n",
      "bool(x) ->  True\n",
      "bo0l(zero) ->  False\n",
      "bool(nada) ->  False\n",
      "bool(nulo) ->  False\n"
     ]
    }
   ],
   "source": [
    "x = 5.0\n",
    "b = 3\n",
    "txt = \"texto\"\n",
    "zero = 0\n",
    "nada = \"\"\n",
    "nulo = None\n",
    "print(\"x > 4.0 -> \", x > 4.0)\n",
    "print(\"b == 4 -> \", b == 4)\n",
    "print(\"bool(x) -> \", bool(x))\n",
    "print(\"bo0l(zero) -> \", bool(zero))\n",
    "print(\"bool(nada) -> \", bool(nada))\n",
    "print(\"bool(nulo) -> \", bool(nulo))"
   ]
  },
  {
   "cell_type": "markdown",
   "metadata": {},
   "source": [
    "# Tipos de dados estruturados nativos \n",
    "\n",
    "Além dos tipos mais simples __Python__ fornece um conjunto de tipos de dados estruturados muito rico e interessante. \n",
    "\n",
    "| Nome      | Exemplo                   | Descrição                              | \n",
    "|-----------|---------------------------|--------------------------------------- |\n",
    "| ``list``  | ``[1, 2, 3]``             | Coleção ordenada                       |\n",
    "| ``tuple`` | ``(1, 2, 3)``             | Coleção imutável ordenada             |\n",
    "| ``dict``  | ``{'a':1, 'b':2, 'c':3}`` | Mapeamento do tipo (chave, valor)      |\n",
    "| ``set``   | ``{1, 2, 3}``             | Coleção não ordenada de valores únicos |\n",
    "\n",
    "Novamente vamos nos debruçar sobre cada um destes tipos.\n",
    "\n",
    "## Listas\n",
    "\n",
    "Uma lista é a estrutura básica, ordenada e mutável definida em __Python__. Se define como um conjunto de valores, separados por virgula e delimitados por ``[ ... ]``. Veja o seguinte exemplo onde demonstramos algumas das propriedades e métodos das listas. Maiores informações sobre listas podem ser acessadas na documentação oficial [More on Lists](https://docs.python.org/3/library/stdtypes.html)"
   ]
  },
  {
   "cell_type": "code",
   "execution_count": 35,
   "metadata": {},
   "outputs": [
    {
     "name": "stdout",
     "output_type": "stream",
     "text": [
      "Uma lista P formada por números pares:  [2, 4, 6, 8, 10]\n",
      "De tamanho len(P):  5\n",
      "Adicionando o elemento 12 no final da lista.\n",
      "A lista agora ficou assim:  [2, 4, 6, 8, 10, 12]\n",
      "Uma nova lista PpI resultado de concatenar P com uma lista de números ímpares\n",
      "[2, 4, 6, 8, 10, 12, 1, 3, 5, 7, 9, 11]\n",
      "A lista Pt3 resultado de repetir os elementos de P 3 vezes\n",
      "[2, 4, 6, 8, 10, 12, 2, 4, 6, 8, 10, 12, 2, 4, 6, 8, 10, 12]\n",
      "A lista PpI ordenada com o método short():  [1, 2, 3, 4, 5, 6, 7, 8, 9, 10, 11, 12]\n",
      "Alterando o elemento PpI[0]:  [0, 2, 3, 4, 5, 6, 7, 8, 9, 10, 11, 12]\n"
     ]
    }
   ],
   "source": [
    "# A lista dos 5 primeiros números pares\n",
    "P = [ 2, 4, 6, 8, 10]\n",
    "print(\"Uma lista P formada por números pares: \", P)\n",
    "# Tamanho da lista\n",
    "print(\"De tamanho len(P): \", len(P))\n",
    "#Acrescentando um valor no final da lista\n",
    "print(\"Adicionando o elemento 12 no final da lista.\")\n",
    "P.append(12)\n",
    "print(\"A lista agora ficou assim: \", P)\n",
    "# Os operadores aritméticos também funcionam com listas da mesma forma que \n",
    "# com strings\n",
    "# Concatenando lista\n",
    "print(\"Uma nova lista PpI resultado de concatenar P com uma lista de números ímpares\")\n",
    "PpI = P + [1, 3, 5, 7, 9, 11]\n",
    "print(PpI)\n",
    "# Repetindo os elementos da lista\n",
    "print(\"A lista Pt3 resultado de repetir os elementos de P 3 vezes\")      \n",
    "Pt3 = 3*P\n",
    "print(Pt3)\n",
    "# Ordenando a lista\n",
    "PpI.sort()\n",
    "print(\"A lista PpI ordenada com o método short(): \", PpI)\n",
    "# A lista, ao contrario de uma string, é mutável\n",
    "PpI[0] = 0\n",
    "print(\"Alterando o elemento PpI[0]: \", PpI)\n"
   ]
  },
  {
   "cell_type": "markdown",
   "metadata": {},
   "source": [
    "Mas se você está achando que as listas em __Python__ são o equivalente aos _arrays_ em outras linguagens, como __C/C++__, está errado. As listas que vimos até agora armazenam dados do mesmo tipo, mas as listas estão mais para listas de compras onde pode entrar líquidos, sólidos, perecíveis, biscoitos, legumes, cerveja, itens de limpeza, por quilos, por litros, por quantidade, etc. Ou seja, listas não se restringem a um tipo específico, e podem armazenar dados de tipos diferentes. Uma lista pode até ser formada por outras listas. Veja os exemplos a seguir."
   ]
  },
  {
   "cell_type": "code",
   "execution_count": 36,
   "metadata": {},
   "outputs": [
    {
     "name": "stdout",
     "output_type": "stream",
     "text": [
      "[1, 2.0, 'três', [4, 5.0]]\n",
      "Não consegui ordenar:  '<' not supported between instances of 'str' and 'float'\n"
     ]
    }
   ],
   "source": [
    "Lh = [1, 2.0, \"três\", [16//4, 10/2]]\n",
    "print(Lh)\n",
    "try:\n",
    "    print(Lh.sort())\n",
    "except Exception as inst:\n",
    "    print(\"Não consegui ordenar: \", inst)\n",
    "        "
   ]
  },
  {
   "cell_type": "markdown",
   "metadata": {},
   "source": [
    "### Indexamento de listas, slicing\n",
    "\n",
    "Os elementos de uma lista podem ser acessados independentemente através do índice que identifica cada um de maneira única. Em __Python__, da mesma forma que em __C/C++__, se implementa o indexamento começando em zero. Como novidade, podemos utilizar índices negativos para acessar a lista de trás para frente. Desta forma:"
   ]
  },
  {
   "cell_type": "code",
   "execution_count": 37,
   "metadata": {},
   "outputs": [
    {
     "name": "stdout",
     "output_type": "stream",
     "text": [
      "Lista:  [0, 2, 3, 4, 5, 6, 7, 8, 9, 10, 11, 12]\n",
      "PpI[0] =  0\n",
      "PpI[1] =  2\n",
      "Tamanho da lista n =  12\n",
      "PpI[n-1] =  12\n",
      "PpI[-1] =  12\n",
      "PpI[-2] =  11\n"
     ]
    }
   ],
   "source": [
    "# A lista PpI anteriormente definida\n",
    "print(\"Lista: \", PpI)\n",
    "# O primeiro elemento da lista é \n",
    "print(\"PpI[0] = \", PpI[0])\n",
    "# e o segundo é\n",
    "print(\"PpI[1] = \", PpI[1])\n",
    "# O tamanho da lista \n",
    "n = len(PpI)\n",
    "print(\"Tamanho da lista n = \", n)\n",
    "# O último elemento da lista pode ser acessado como:\n",
    "print(\"PpI[n-1] = \", PpI[n-1])\n",
    "# O é então como:\n",
    "print(\"PpI[-1] = \", PpI[-1])\n",
    "# e o anterior a ele\n",
    "print(\"PpI[-2] = \", PpI[-2])"
   ]
  },
  {
   "cell_type": "markdown",
   "metadata": {},
   "source": [
    "Os elementos podem ser acessados também como sub listas geradas utilizando o mecanismo de _slicing_. Utilizando então uma sintaxe baseada no emprego de ``[ini:fim]``para separar o início (``ini``) da sub lista, incluído nela, e o final, não incluído. Podemos omitir o início da sub lista (``[:fim]``) e, neste caso, a mesma começa no elemento de índice 0. Também podemos omitir o final (``[ini:]``) e serão incluídos os elementos até o final da lista. Um terceiro inteiro pode ser utilizado no slicing, ``[ini:fim:passo]`` para definir o intervalo entre um elemento e outro a ser selecionado para integrar a sub lista. Veja os exemplos a seguir"
   ]
  },
  {
   "cell_type": "code",
   "execution_count": 38,
   "metadata": {},
   "outputs": [
    {
     "name": "stdout",
     "output_type": "stream",
     "text": [
      "P[:3] =  [2, 4, 6]\n",
      "P[1:] =  [4, 6, 8, 10, 12]\n",
      "P[1:4] =  [4, 6, 8]\n",
      "PpI[::4] =  [0, 3, 5, 7, 9, 11]\n"
     ]
    }
   ],
   "source": [
    "# Os primeiros três elementos de P\n",
    "print(\"P[:3] = \", P[:3]) # equivale a P[0:3], retorna os elemento de índice 0, 1 e 2\n",
    "# Os elementos da lista excluindo o primeiro\n",
    "print(\"P[1:] = \",P[1:]) # equivale a P[1:len(P)]\n",
    "# Uma sub lista da original, retorna os elementos de índice 1, 2 e 3\n",
    "print(\"P[1:4] = \", P[1:4])\n",
    "# Extraindo os elementos com índice par da lista completa\n",
    "print(\"PpI[::4] = \",PpI[::2]) # equivale a PpI[0:len(PpI):2]"
   ]
  },
  {
   "cell_type": "markdown",
   "metadata": {},
   "source": [
    "A sintaxes do _slicing_ é utilizada também em outras estruturas, como _strings_, ou as criadas em pacotes como o __NumPy__ e o __Pandas__."
   ]
  },
  {
   "cell_type": "code",
   "execution_count": 39,
   "metadata": {},
   "outputs": [
    {
     "name": "stdout",
     "output_type": "stream",
     "text": [
      "kjihgfedcba\n"
     ]
    }
   ],
   "source": [
    "# Vejamos como mostrar uma string ao contrario usando slicing\n",
    "texto = \"abcdefghijk\"\n",
    "print(texto[-1::-1])"
   ]
  },
  {
   "cell_type": "markdown",
   "metadata": {},
   "source": [
    "## Tuplas\n",
    "\n",
    "Tuplas são bastante similares a listas em alguns aspectos. São definidas como um conjunto de elementos separados por vírgula e delimitados por parênteses. As tuplas também tem tamanho (``len``) e os elementos da mesma também podem ser acessados pelo seu índice. A principal diferença é que as tuplas são imutáveis, ou seja, uma vez criadas seu tamanho e seu conteúdo não podem ser alterados. Veja os exemplos"
   ]
  },
  {
   "cell_type": "code",
   "execution_count": null,
   "metadata": {},
   "outputs": [],
   "source": [
    "dupla = (2,3.6)\n",
    "print(dupla)\n",
    "c = 3\n",
    "tripla = (\"a\", 'b', c)\n",
    "print(tripla)\n",
    "print(\"tripla[0] -> \", tripla[0])\n",
    "# Sobre o fato de serem imutaveis \n",
    "try:\n",
    "    tripla[2] = 3\n",
    "except Exception as inst:\n",
    "    print(\"Não consegui modificar a tupla: \", inst)"
   ]
  },
  {
   "cell_type": "markdown",
   "metadata": {},
   "source": [
    "As tuplas podem ser utilizadas em diversos contextos. Um exemplo simples pode ser o caso das funções que precisam retornar mais de uma variável. Veja este exemplo interessante que demonstra as potencialidade de __Python__."
   ]
  },
  {
   "cell_type": "code",
   "execution_count": null,
   "metadata": {},
   "outputs": [],
   "source": [
    "# X armazena um valor de ponto flutuante\n",
    "x = 0.125\n",
    "# Na realidade este valor pode ser representado como uma frção\n",
    "print(x.as_integer_ratio()) # método da classe dos objetos da classe pont flutuante\n",
    "numerador, denominador = x.as_integer_ratio() # o método retorna uma dupla\n",
    "print(numerador, \"/\", denominador) # aqui escrevendo como uma fração\n",
    "print(numerador / denominador) # aqui escrevendo novamente como um ponto flutuante\n",
    "# referenciando Tuplas\n",
    "p1 = (1.0, 2.3)\n",
    "print(\"p1 = \", p1)\n",
    "p2 = p1\n",
    "print(\"p2 = \", p2)\n",
    "p1 = (1.0, 2.3, 3.4)\n",
    "print(\"p1 = \", p1)\n",
    "print(\"p2 = \", p2)\n",
    "# Sobre indexamento e tamanho das tuplas\n",
    "print(\"P1 é uma tupla de \", len(p1), \" componentes.\")\n",
    "print(\"O último componente da tupla é P1[-1] = \", p1[-1])"
   ]
  },
  {
   "cell_type": "markdown",
   "metadata": {},
   "source": [
    "## Dicionários\n",
    "\n",
    "Quisa o tipo mais interessante entre os tipos de dados estruturados nativos de __Python__, o dicionário não parece com quase nada do que encontramos em outras linguagens mais tradicionais. Para declarar um dicionário utilizamos um conjunto de pares chave valor, no formato ``{chave:valor, }``, separados por vírgula e delimitado por chaves. O acesso aos elementos do dicionário utiliza mais uma vez índices, mas desta vez não se trata de um mecanismo de indexamento numérico começando em zero. Os índices dos dicionários são as chaves. Veja os seguintes exemplos"
   ]
  },
  {
   "cell_type": "code",
   "execution_count": 40,
   "metadata": {},
   "outputs": [
    {
     "name": "stdout",
     "output_type": "stream",
     "text": [
      "Nome:  Jonas\n",
      "Registro completo:  {'Nome': 'Juninho', 'SobreNome': 'Oliveira', 'Idade': 25, 'Altura': 1.85, 'Peso': 88.3}\n"
     ]
    }
   ],
   "source": [
    "# Declarando um dicionário\n",
    "meuReg = {'Nome': \"Jonas\", 'SobreNome': \"Oliveira\", \"Idade\":25, \"Altura\":1.85}\n",
    "# Os dicionarios são mutáveis\n",
    "# Acessando um elemento do dicionário\n",
    "print(\"Nome: \", meuReg['Nome'])\n",
    "# Modificando um elemento do dicionario\n",
    "meuReg['Nome'] = \"Juninho\"\n",
    "# Adicionando um novo elemento\n",
    "meuReg['Peso'] = 88.3\n",
    "# Imprimindo o dicionário\n",
    "print(\"Registro completo: \", meuReg)\n"
   ]
  },
  {
   "cell_type": "markdown",
   "metadata": {},
   "source": [
    "## Conjuntos\n",
    "\n",
    "Finalmente os conjuntos são declarados como as listas, substituindo os colchetes por chaves. Para os matemáticos pode ficar mais simples entender este tipo de dado se os associamos a conjuntos matemáticos, para os quais estão definidos uma série de operações bem conhecidas. Veja os exemplos a seguir "
   ]
  },
  {
   "cell_type": "code",
   "execution_count": null,
   "metadata": {},
   "outputs": [],
   "source": [
    "# Declarando conjuntos\n",
    "P = { 2, 4, 6, 8, 10}\n",
    "I = {1, 3, 5, 7, 9}\n",
    "# União de conjuntos\n",
    "num = P.union(I) # equivalente a P | I\n",
    "nulo = I.intersection(P) # equivalente a I & P\n",
    "dif = P.difference(I) # equivalente a P - I\n",
    "print(\"Conjunto P, \", P)\n",
    "print(\"Conjunto I, \", I)\n",
    "print(\"União, \", num)\n",
    "print(\"Intersecção, \", nulo )\n",
    "print(\"Deferença, \", dif)"
   ]
  },
  {
   "cell_type": "markdown",
   "metadata": {},
   "source": [
    "# Estruturas de controle de fluxo\n",
    "\n",
    "Com o conteúdo apresentado até aqui somos capasses de entender um pouco o __Python__ e brincar, de forma bastante limitada, com um interpretador como o __IPython__. Para andar soltos no mundo, implementando algoritmos, se faz necessário entender como controlar uma sequência de comandos de forma a executar determinados blocos de acordo com condições específicas, ou então de forma repetitiva, recorrente ou recursiva. Nos próximos tópicos abordaremos de forma rápida estruturas condicionais, como __if__, __elif__ e __else__, e estruturas de repetição, incluindo os tradicionais __for__ e __while__.\n",
    "\n",
    "## Estrutura condicional: if - elif - else:\n",
    "\n",
    "Estruturas condicionadas, geralmente conhecidas como comandos ``if-then``, permitem que o código execute um determinado bloco de instruções apenas se uma determinada condição booliana for satisfeita. Em __Python__ se introduz a tradicional estrutura ``if-else``, acrescentando apenas o ``elif`` que é uma contração para quando seja necessário utilizar um ``else if`` (o clássico ``if`` aninhado). Veja alguns exemplos simples."
   ]
  },
  {
   "cell_type": "code",
   "execution_count": null,
   "metadata": {},
   "outputs": [],
   "source": [
    "# podemos utilizar uma variável booliana diretamente\n",
    "condição = True\n",
    "# veja como usar uma condição if simples\n",
    "x = 0.0\n",
    "print(\"x = \", x)\n",
    "if condição:\n",
    "    x = 3.14\n",
    "# Após a estrutura condicional\n",
    "print(\"x = \", x)\n",
    "# Podemos utilizar também uma condição com duas alternativas\n",
    "if x > 0:\n",
    "    x = -15\n",
    "else:\n",
    "    x = 15\n",
    "# Após a nova estrutura condicional    \n",
    "print(\"x = \", x)\n",
    "# Ou estruturas condicionais aninhadas\n",
    "if x == 0:\n",
    "    print(x, \"zero\")\n",
    "elif x > 0:\n",
    "    print(x, \"positivo\")\n",
    "elif x < 0:\n",
    "    print(x, \"negativo\")\n",
    "else:\n",
    "    print(x, \"não é um valor numérico...\")"
   ]
  },
  {
   "cell_type": "markdown",
   "metadata": {},
   "source": [
    "## Estrutura de repetição for\n",
    "\n",
    "Estruturas de repetição ou laços, são utilizados para executar um determinado bloco de instruções repetidas vezes. Veja um exemplo simples em __Python__"
   ]
  },
  {
   "cell_type": "code",
   "execution_count": 43,
   "metadata": {},
   "outputs": [
    {
     "name": "stdout",
     "output_type": "stream",
     "text": [
      "[  0 ,  2 ,  3 ,  4 ,  5 ,  6 ,  7 ,  8 ,  9 ,  10 ,  11 ,  12 ,   ]\n"
     ]
    }
   ],
   "source": [
    "print(\"[ \", end=' ')\n",
    "for X in PpI:\n",
    "    print(X, \", \", end=' ')  # imprimindo todos os elementos na mesma linha\n",
    "print(\" ]\")"
   ]
  },
  {
   "cell_type": "markdown",
   "metadata": {},
   "source": [
    "Reparem que neste exemplo utilizamos o operador in para ligar a variável de controle do laço com o conjunto de valores possíveis (pode se ler \"para cada valor x incluído na lista PpI). O mesmo código poderia ser implementado utilizando a função ``range()`` da seguinte forma. "
   ]
  },
  {
   "cell_type": "code",
   "execution_count": 44,
   "metadata": {},
   "outputs": [
    {
     "name": "stdout",
     "output_type": "stream",
     "text": [
      "range( 10 ):  [0, 1, 2, 3, 4, 5, 6, 7, 8, 9]\n",
      "range( 2  , 10 ):  [2, 3, 4, 5, 6, 7, 8, 9]\n",
      "range( 2  , 10  ,  2 ):  [2, 4, 6, 8]\n",
      "PpI: [ 0 2 3 4 5 6 7 8 9 10 11 12 ]\n"
     ]
    }
   ],
   "source": [
    "# a função range retorna um iterator de números inteiros\n",
    "# pode ser usada definindo apenas o valor final, que não estara incluido \n",
    "fim = 10\n",
    "print(\"range(\", fim,\"): \",list(range(fim)))\n",
    "# pode ser definindo também o valor inicial, que estara incluido \n",
    "ini = 2\n",
    "print(\"range(\",ini, \" ,\", fim,\"): \",list(range(ini, fim)))\n",
    "# pode ainda ser definindo também o valor do incremento\n",
    "passo = 2\n",
    "print( \"range(\",ini, \" ,\", fim, \" , \", passo, \"): \",list(range(ini, fim, passo)))\n",
    "# No caso da lista do exemplo anterior\n",
    "print(\"PpI: [\", end=' ')\n",
    "for i in range(len(PpI)):\n",
    "    print(PpI[i], end=' ')\n",
    "print(\"]\")"
   ]
  },
  {
   "cell_type": "markdown",
   "metadata": {},
   "source": [
    "## Estrutura de repetição while\n",
    "\n",
    "A estrutura ``while`` repete um bloco de código enquanto uma determinada condição for satisfeita. Veja o exemplo"
   ]
  },
  {
   "cell_type": "code",
   "execution_count": 45,
   "metadata": {},
   "outputs": [
    {
     "name": "stdout",
     "output_type": "stream",
     "text": [
      "PpI: [ 0 2 3 4 5 6 7 8 9 10 11 12 ]\n"
     ]
    }
   ],
   "source": [
    "i = 0\n",
    "print(\"PpI: [\", end=' ')\n",
    "while i < len(PpI):\n",
    "    print(PpI[i], end=' ')\n",
    "    i += 1\n",
    "print(\"]\")"
   ]
  },
  {
   "cell_type": "markdown",
   "metadata": {},
   "source": [
    "Esta estrutura de repetição podem ter sua execução modificada pelo uso de duas instruções: ``break`` e ``continue``. Veja como modificar o código do laço for apresentado na seção anterior: "
   ]
  },
  {
   "cell_type": "code",
   "execution_count": 46,
   "metadata": {},
   "outputs": [
    {
     "name": "stdout",
     "output_type": "stream",
     "text": [
      "PpI: [ 2 4 6 8 10 12 ]\n"
     ]
    }
   ],
   "source": [
    "print(\"PpI: [\", end=' ')\n",
    "for i in range(len(PpI)):\n",
    "    if i%2 == 0 :\n",
    "        continue #pula para o fim da iteração atual e vai para a próxima iteração\n",
    "    print(PpI[i], end=' ')\n",
    "print(\"]\")"
   ]
  },
  {
   "cell_type": "code",
   "execution_count": 47,
   "metadata": {},
   "outputs": [
    {
     "name": "stdout",
     "output_type": "stream",
     "text": [
      "PpI: [ 0 2 3 4 5 6 ]\n"
     ]
    }
   ],
   "source": [
    "i = 0\n",
    "print(\"PpI: [\", end=' ')\n",
    "while i < len(PpI):\n",
    "    if i > 5:\n",
    "        break # sai completamente da execução do laço\n",
    "    print(PpI[i], end=' ')\n",
    "    i += 1\n",
    "print(\"]\")"
   ]
  },
  {
   "cell_type": "markdown",
   "metadata": {},
   "source": [
    "Uma outra característica que pode ser comentada sobre as estruturas de repetição em __Python__ é a possibilidade de utilizar um estutura ``else`` no final, tanto dos laços ``for`` quanto dos ``while``. A utilização prática ou mesmo a necessidade de se ter este recurso desperta muitas dúvidas entre os programadores. Vamos apenas colocar um exemplo para documentar o uso do mesmo. "
   ]
  },
  {
   "cell_type": "code",
   "execution_count": 48,
   "metadata": {},
   "outputs": [
    {
     "name": "stdout",
     "output_type": "stream",
     "text": [
      "PpI: [ 2 4 6 8 10 12 ]\n"
     ]
    }
   ],
   "source": [
    "# Uma situação sismples baseada no exemplo anterior\n",
    "print(\"PpI: [\", end=' ')\n",
    "for i in range(len(PpI)):\n",
    "    if i%2 == 0 :\n",
    "        continue #pula para o fim da iteração atual e vai para a próxima iteração\n",
    "    print(PpI[i], end=' ')\n",
    "else: \n",
    "    print(\"]\")"
   ]
  },
  {
   "cell_type": "markdown",
   "metadata": {},
   "source": [
    "# Funções, como utilizar e implementar\n",
    "\n",
    "Algoritmos simples podem ser implementados utilizando apenas variáveis e estruturas de controle de fluxo. O desenvolvimento de programas e códigos mais elaborados, exigem a utilização de funções, inclusive daquelas que aparecem na forma de métodos de classes. Paradigmas de programação como o de programação estruturada ou programação orientada a objetos, que visam entre outras coisas podermos reutilizar códigos e estruturar os mesmo de forma a simplificar seu desenvolvimento e posterior manutenção, nos leva à necessidade de aprendermos a implementar funções de forma eficiente.  \n",
    "\n",
    "## Que é uma função\n",
    "\n",
    "Uma função não é mais que um bloco de código  ou rotina, que pode ser utilizado múltiplas vezes e que permite estruturar o código de forma a garantir uma sequencia mais limpa e legível de instruções. O bloco sintáctico vinculado à função é sempre associado a um nome que serve para invocar a execução do mesmo a qualquer momento. Como na maioria das linguagens tradicionais, em __Python__, a chamada a uma funções evolve seu nome seguido de parêntesis que delimitam os parâmetros que deverão ser passados para a função. Mesmo funções que não recebem parâmetros são chamadas utilizando parêntesis. Os parêntesis ajudam a distinguir quando se esta fazendo referenciando uma variável ou fazendo a chamada a uma função. \n",
    "\n",
    "Semelhante ao conceito matemático de função, seu equivalente computacional pode ser utilizar para mapear um conjunto de entrada, ou domínio, em um conjunto de saída ou imagem. Entretanto as funções, computacionalmente falando, podem ter domínio vazio, não recebem parâmetros de entrada, e também podem ter imagem nula, não retornam nenhum resultado. \n",
    "\n",
    "Até aqui foram utilizados, em vários momentos, funções como o caso de: "
   ]
  },
  {
   "cell_type": "code",
   "execution_count": null,
   "metadata": {},
   "outputs": [],
   "source": [
    "print(\"Olha uma função aqui!!!\")"
   ]
  },
  {
   "cell_type": "markdown",
   "metadata": {},
   "source": [
    "Vamos aprender então como criar nossas próprias funções em __Python__.\n",
    "\n",
    "## Definindo funções\n",
    "\n",
    "Para se definir uma função em __Python__ utilizamos a palavra chave ``def``, seguido do nome da função e, entre parêntesis, os parâmetros de entrada. O bloco de instruções associado a aquela função pode ser declarado, seguindo a sintaxes apropriada em __Python__, ou seja utilizar ``:`` e indentação para delimitar o bloco de instruções associada à mesma. Uma função em __Python__ é, então, um objeto que engloba um bloco sintáctico definido através da palavra chave ``def`` com a seguinte sintaxe:"
   ]
  },
  {
   "cell_type": "code",
   "execution_count": 49,
   "metadata": {},
   "outputs": [
    {
     "name": "stdout",
     "output_type": "stream",
     "text": [
      "Esta função não tem argumentos\n",
      "None\n",
      "[5]\n",
      "4\n"
     ]
    }
   ],
   "source": [
    "#Função sem argumentos. Retorna uma string\n",
    "def funSemArgumentos():\n",
    "    # Bloco sintático\n",
    "    return \"Esta função não tem argumentos\"\n",
    "\n",
    "print(funSemArgumentos())\n",
    "\n",
    "#Função com um argumento. Não retorna nada\n",
    "def funUmArgumento(arg1):\n",
    "    # Bloco sintático\n",
    "    arg1.append(5) # Colocando um novo elemento  o final da lista\n",
    "\n",
    "L = []\n",
    "print(funUmArgumento(L))\n",
    "print(L)\n",
    "    \n",
    "#Função com dois argumentos. Retorna a adição dos mesmos    \n",
    "def funDoisArgumentos(arg1, arg2):\n",
    "    # Bloco sintático\n",
    "    valor = arg1 + arg2 \n",
    "    return valor\n",
    "\n",
    "print(funDoisArgumentos(2,2))"
   ]
  },
  {
   "cell_type": "markdown",
   "metadata": {},
   "source": [
    "Veja o exemplo a seguir."
   ]
  },
  {
   "cell_type": "code",
   "execution_count": null,
   "metadata": {},
   "outputs": [],
   "source": [
    "def minhaFunção():\n",
    "    pass"
   ]
  },
  {
   "cell_type": "markdown",
   "metadata": {},
   "source": [
    "A ``minhaFunção`` está definida de forma que ela não recebe parâmetros nem faz absolutamente nada. A palavra chave ``pass`` pode ser utilizada quando queremos deixar definido um bloco de código para o qual ainda não temos uma implementação apropriada. Vamos tentar um exemplo mais ilustrativo. "
   ]
  },
  {
   "cell_type": "code",
   "execution_count": null,
   "metadata": {},
   "outputs": [],
   "source": [
    "# Retorna os N primeiros termos da Sequência de Fibonacci\n",
    "def fibonacci(N):\n",
    "    L = [0]\n",
    "    a, b = 0, 1\n",
    "    while len(L) < N:\n",
    "        a, b = b, a + b\n",
    "        L.append(a)\n",
    "    return L"
   ]
  },
  {
   "cell_type": "markdown",
   "metadata": {},
   "source": [
    "Temos agora uma função que implementa um algoritmo que permite gerar N termos consecutivos da sequência de Fibonacci. Não lembra de como se calculam os termos da sequência? Veja esta [referência](https://pt.wikipedia.org/wiki/Sequ%C3%AAncia_de_Fibonacci)\n",
    "\n",
    "Podemos utilizar a função da seguinte forma, por exemplo:\n"
   ]
  },
  {
   "cell_type": "code",
   "execution_count": null,
   "metadata": {},
   "outputs": [],
   "source": [
    "fibonacci(10)"
   ]
  },
  {
   "cell_type": "markdown",
   "metadata": {},
   "source": [
    "Reparem que na definição da função, ao contrário de linguagens mais tradicionais como __C/C++__, não estão incluídos o tipo de retorno da função ou os tipos dos parâmetros de entrada da mesma. Isto faz das funções em __Python__ um instrumento muito versátil, capaz de retornar valores diversos. O mecanismo de passagem de parâmetros também é bastante inovador, mas sobre ele falaremos mais para frente. \n",
    "\n",
    "Vejam o exemplo a seguir que mostra como retornar múltiplos resultados:"
   ]
  },
  {
   "cell_type": "code",
   "execution_count": null,
   "metadata": {},
   "outputs": [],
   "source": [
    "def real_imag_conj(val):\n",
    "    return val.real, val.imag, val.conjugate()\n",
    "\n",
    "r, i, c = real_imag_conj(3 + 4j)\n",
    "print(r, i, c)"
   ]
  },
  {
   "cell_type": "markdown",
   "metadata": {},
   "source": [
    "Vejamos outro exemplo. A função no próximo exemplo recebe dois parâmetros, sem especificar o tipo, e utiliza o operador adição com eles para gerar o valor de saída. A função pode trabalhar então com qualquer variável em __Python__  para a qual esteja definido o operador adição. "
   ]
  },
  {
   "cell_type": "code",
   "execution_count": null,
   "metadata": {},
   "outputs": [],
   "source": [
    "def soma(a, b):\n",
    "    return a + b\n",
    "\n",
    "print(soma(2, 2))\n",
    "print(soma(2.0, 2))\n",
    "print(soma(2.0,2.0))\n",
    "print(soma(\"dois + \", \"dois\"))"
   ]
  },
  {
   "cell_type": "markdown",
   "metadata": {},
   "source": [
    "Isto significa que as funções em __Python__ são essencialmente polimórficas. Isto é, elas se comportam de acordo com o tipo dos objetos com que estão trabalhando. Vejamos este outro exemplo."
   ]
  },
  {
   "cell_type": "code",
   "execution_count": null,
   "metadata": {},
   "outputs": [],
   "source": [
    "def intersect(seq1, seq2):\n",
    "    res = []\n",
    "    for x in seq1:\n",
    "        if x in seq2:\n",
    "            res.append(x)\n",
    "    return res\n",
    "\n",
    "print(intersect(\"Modelagem\", \"viagem\"))\n",
    "print(intersect([1, 2, 3, 5, 7], [1, 2, 3, 4, 5, 6, 7]))"
   ]
  },
  {
   "cell_type": "markdown",
   "metadata": {},
   "source": [
    "As funções declaradas em __Python__ viram objetos apenas quando são executadas. Como qualquer outra declaração, ``def`` pode ser utilizada nos contextos em que declarações são aceitas. Veja o seguinte exemplo em que declaramos uma nova função de acordo com um parâmetro booliano utilizando uma estrutura condicional ``if-else``."
   ]
  },
  {
   "cell_type": "code",
   "execution_count": null,
   "metadata": {},
   "outputs": [],
   "source": [
    "#cond = True\n",
    "cond = False\n",
    "\n",
    "if cond:\n",
    "    def minhaSoma(a, b):\n",
    "        return a + b\n",
    "else:\n",
    "    def minhaSoma(a, b):\n",
    "        return (1/a + 1/b)\n",
    "\n",
    "print (minhaSoma(2, 2))"
   ]
  },
  {
   "cell_type": "markdown",
   "metadata": {},
   "source": [
    "A palavra chave ``def`` cria um objeto, e “atribui” uma referência para o mesmo a uma variável que é o nome da função. Isto abre a possibilidade de utilizar nomes diferentes para uma mesma função. Veja o exemplo a seguir."
   ]
  },
  {
   "cell_type": "code",
   "execution_count": null,
   "metadata": {},
   "outputs": [],
   "source": [
    "adição = soma\n",
    "print(adição(2, 2))"
   ]
  },
  {
   "cell_type": "markdown",
   "metadata": {},
   "source": [
    "## Escopo das variáveis\n",
    "\n",
    "Um aspecto importante a ser analisado na hora de implementar funções é o escopo das variáveis. Até aqui não prestamos muita atenção a este aspecto. Assumimos que as variáveis declaradas dentro de uma função são variáveis locais. De forma geral em __Python__ o escopo de uma variável depende do local onde ela é declarada. Desta forma uma variável pode ser:\n",
    "\n",
    "* local: quando declarada dentro de uma função;\n",
    "* nonlocal: quando declarada dentro de uma função mas fora de uma outra função aninhada dentro dela;\n",
    "* global: quando declarada fora de todas as funções\n",
    "\n",
    "<img align=\"center\" style=\"padding-right:10px;\" src=\"Figuras/Fig_006.jpg\">\n",
    "\n",
    "(*) Fonte: __Learning Python. 5th Edition. _Mark Lutz_ .__\n",
    "\n",
    "Veja os exemplos a seguir"
   ]
  },
  {
   "cell_type": "code",
   "execution_count": null,
   "metadata": {},
   "outputs": [],
   "source": [
    "# Escopo global\n",
    "x = 99 # Aqui x é uma variável global\n",
    "\n",
    "print(\"x Global = \", x)\n",
    "\n",
    "def funçãoX(y): # y é uma variável Local da função\n",
    "    #Escopo local\n",
    "    # z é atribuída dentro do corpo da função (local)\n",
    "    print(\"y Local = \", y)\n",
    "    print(\"x Global = \", x)\n",
    "    z = x + y  # já x, que não foi definido neste bloco, se refere à variável Global\n",
    "    print(\"z Local = \", z)\n",
    "    return z\n",
    "\n",
    "# y e z não estão de finidas fora da função\n",
    "try:\n",
    "    print(\"z Local = \", z)\n",
    "except: \n",
    "    print(\"Problemas!!!: \")\n",
    "\n",
    "    \n",
    "print(\"x Global = \", x)\n",
    "print(\"função(1) --> \", funçãoX(1))"
   ]
  },
  {
   "cell_type": "code",
   "execution_count": null,
   "metadata": {},
   "outputs": [],
   "source": [
    "# Escopo global\n",
    "x = 99 # Aqui x é uma variável global\n",
    "\n",
    "def funçãoX():\n",
    "    #Escopo local\n",
    "    x = 11  # se cria uma nova referẽncia com o nome x, no escolo local\n",
    "    print(\"x Local = \", x)\n",
    "\n",
    "    \n",
    "print(\"x Global = \", x)\n",
    "print(\"Chamando à funcãoX()\")\n",
    "funçãoX()\n",
    "print(\"Mas x Global continua= \", x)"
   ]
  },
  {
   "cell_type": "code",
   "execution_count": null,
   "metadata": {},
   "outputs": [],
   "source": [
    "# Escopo global\n",
    "x = 99\n",
    "\n",
    "\n",
    "def funçãoX():\n",
    "    #Escopo local\n",
    "    x = 11\n",
    "    \n",
    "    def funçãoY():\n",
    "        #Escopo local\n",
    "        x = 22\n",
    "        print(\"x Local da funçãoY: \", x)\n",
    "    \n",
    "    print(\"x Local da funçãoX: \", x)\n",
    "    print(\"Chamando à funcãoY()\")\n",
    "    funçãoY()\n",
    "    print(\"Mas x Local da funçãoX continua = \", x)\n",
    "\n",
    "print(\"x Global = \", x)\n",
    "print(\"Chamando à funcãoX()\")\n",
    "funçãoX()\n",
    "print(\"E x Global continua = \", x)"
   ]
  },
  {
   "cell_type": "markdown",
   "metadata": {},
   "source": [
    "O escopo de uma variável pode ser modificado utilizando as palavras chaves global e nonlocal. Veja uma pequena variação do exemplo anterior."
   ]
  },
  {
   "cell_type": "code",
   "execution_count": null,
   "metadata": {},
   "outputs": [],
   "source": [
    "# Escopo global\n",
    "x = 99\n",
    "y = 3\n",
    "\n",
    "\n",
    "def funçãoX():\n",
    "    #Escopo global\n",
    "    # quando me refira a x dentro, da funçãoX, ...\n",
    "    global x # estou falando do x global\n",
    "    print(\"x Global dentro da funçãoX = \", x)\n",
    "    x = 11\n",
    "    # já este y é local da função, ...\n",
    "    y = 99 # diferente do y de escopo global\n",
    "    def funçãoY():\n",
    "        #Escopo nonlocal\n",
    "        # quando me refira a y dentro, da funçãoY, ...\n",
    "        nonlocal y # estou falando do y local da funçãoX\n",
    "        print(\"y NonLocal dentro da funçãoY = \", y)\n",
    "        y = 22\n",
    "        \n",
    "    print(\"y Local dentro da funçãoX = \", y)\n",
    "    print(\"Chamando à funcãoY()\")\n",
    "    funçãoY()\n",
    "    print(\"Agora y Local é = \", y)\n",
    "   \n",
    "print (\"x Global = \", x)\n",
    "print (\"y Global = \", y)\n",
    "print(\"Chamando à funcãoX()\")\n",
    "funçãoX()\n",
    "print(\"Agora x Global é = \", x)\n",
    "print(\"E y Global é = \", y)"
   ]
  },
  {
   "cell_type": "markdown",
   "metadata": {},
   "source": [
    "## Passagem de parâmetros\n",
    "\n",
    "A passagem de parâmetros para funções pode ser feita, de forma geral, de duas formas: por valor ou por referência. Na passagem de parâmetros por valor, cria-se dentro da função, uma cópia da variável original de forma que, alterações feitas dentro da função não afetam o valor originalmente armazenado. Na passagem por referência se trabalha, dentro da função, no endereço da variável de origem. Por este motivo, modificações feitas neste contexto afetam o valor da variável fora da função. \n",
    "\n",
    "Em __Python__ a passagem de parâmetros é feita da seguinte forma:\n",
    "\n",
    "* São atribuídos referências a objetos para variáveis locais (parâmetros);\n",
    "* Fazer novas atribuições a estes parâmetros dentro da função não afeta as variáveis originais;\n",
    "* Modificar objetos mutáveis referenciados por parâmetros da função afeta as variáveis originais\n",
    "\n",
    "Isto significa que em __Python__, ainda que na realidade a passagem é sempre feita por referência, na prática:\n",
    "\n",
    "* A passagem de objetos mutáveis é feita por referência\n",
    "* A passagem de objetos imutáveis é feita por valor\n",
    "\n",
    "Veja como funciona."
   ]
  },
  {
   "cell_type": "code",
   "execution_count": null,
   "metadata": {},
   "outputs": [],
   "source": [
    "def funçãoPorValor(a):\n",
    "    a = 1 # valores numéricos geram objetos inmutáveis\n",
    "\n",
    "b = 0\n",
    "funçãoPorValor(b)\n",
    "print(b)"
   ]
  },
  {
   "cell_type": "code",
   "execution_count": null,
   "metadata": {},
   "outputs": [],
   "source": [
    "def funçãoPorReferência(a):\n",
    "    try:\n",
    "        a[0] = \"Mudei\" # Listas são sempre objetos mutáveis\n",
    "    except:\n",
    "        pass\n",
    "\n",
    "b = [1, 2, 3]\n",
    "print(b)\n",
    "funçãoPorReferência(b)\n",
    "print(b)\n",
    "c = (1, 2, 3)\n",
    "print(c)\n",
    "print(c[0])\n",
    "funçãoPorReferência(c)\n",
    "print(c)"
   ]
  },
  {
   "cell_type": "markdown",
   "metadata": {},
   "source": [
    "No cabeçalho de uma função fica definido os nomes dos parâmetros que a função recebe e a ordem em que eles devem ser enviados. __Python__ estabelece alguns mecanismos que permitem criar chamadas a funções muito mais flexíveis. \n",
    "Além do mecanismo tradicional (posicional) pode-se destacar outros dois:\n",
    "\n",
    "* palavras chaves\n",
    "* valores predefinidos\n",
    "\n",
    "Veja o seguinte exemplo que demonstra com utilizar o conceito de palavras chaves na passagem de parâmetros.\n"
   ]
  },
  {
   "cell_type": "code",
   "execution_count": null,
   "metadata": {},
   "outputs": [],
   "source": [
    "# A funçãoY tem três parâmetros de entrada. Pela sua ordem eles são a, b e c\n",
    "def funçãoY(a, b, c):\n",
    "    print(a, b, c)\n",
    "\n",
    "# Posso chamar colocando apenas os valores pela ordem\n",
    "funçãoY(1, 2, 3) # isto significa que a recebe 1, b recebe 2 e c recebe 3\n",
    "# Posso especificar o valor que cada parâmetro vai receber\n",
    "funçãoY(c = 4, a = 7, b = 1) # isto significa que a recebe 7 b recebe 1 e c recebe 4\n",
    "# Posso utilizar parcialmente a ordem e os nomes        \n",
    "funçãoY(4, c = 2, b = 5) # isto significa que a recebe 4, b recebe 5 e c recebe 2"
   ]
  },
  {
   "cell_type": "markdown",
   "metadata": {},
   "source": [
    "Desta forma __Python__ permite que você seja mais específico na hora de chamar a função. Identificar o que você está passando para uma função deixa seu código bem mais interessante e fácil de ler. Mas como saber quais parâmetros uma função recebe e qual a sua ordem? Veja [aqui](https://realpython.com/documenting-python-code/) e [aqui](https://www.python.org/dev/peps/pep-0257/) como documentar funções.  "
   ]
  },
  {
   "cell_type": "code",
   "execution_count": null,
   "metadata": {},
   "outputs": [],
   "source": [
    "help(funçãoY)"
   ]
  },
  {
   "cell_type": "markdown",
   "metadata": {},
   "source": [
    "Uma pequena modificação na definição da funçãoY pode deixar ela mais simples de usar."
   ]
  },
  {
   "cell_type": "code",
   "execution_count": null,
   "metadata": {},
   "outputs": [],
   "source": [
    "'''\n",
    "A funçãoY tem três parâmetros de entrada. \n",
    "a: com valor padrão 1\n",
    "b: com valor padrão 2 \n",
    "c: com valor padrão 3\n",
    "'''\n",
    "def funçãoY(a = 1, b = 2, c = 3):\n",
    "    print(a, b, c)\n",
    "\n",
    "# Posso chamar a função com os valores implícitos das variáveis    \n",
    "funçãoY() # os parâmetros tem seus valores padrão\n",
    "# Posso chamar a função passando valores explicitamente, pela ordem  \n",
    "funçãoY(4, 5, 6) # isto significa que a recebe 4, b recebe 5 e c recebe 6\n",
    "# Posso chamar a função passando valores explicitamente, pelo nome\n",
    "funçãoY(c = 6, a = 4, b = 5) # isto significa que a recebe 4, b recebe 5 e c recebe 6\n",
    "# Posso chamar a função passando valores explicitamente, pela ordem e pelo nome\n",
    "funçãoY(1, c = 6, b = 5) # isto significa que a recebe 1, b recebe 5 e c recebe 6\n",
    "# Posso chamar a função passando valores explicitamente, pela ordem e/ou pelo nome\n",
    "funçãoY(a=7) # e deixar alguns parâmetros com seus valores implícitos"
   ]
  },
  {
   "cell_type": "markdown",
   "metadata": {},
   "source": [
    "__Python__ ainda permite função com uma quantidade indeterminada de parâmetros. Com esta finalidade a função deve ser declarada da seguinte forma."
   ]
  },
  {
   "cell_type": "code",
   "execution_count": null,
   "metadata": {},
   "outputs": [],
   "source": [
    "def funFlexL(*ListaDeParâmetros):\n",
    "    print(len(ListaDeParâmetros))\n",
    "    print(ListaDeParâmetros)\n",
    "    \n",
    "# ou\n",
    "\n",
    "def funFlexD(**DicionarioDeParâmetros):\n",
    "    print(DicionarioDeParâmetros)\n",
    "    \n",
    "# ou ainda\n",
    "\n",
    "def funFlexLD(*ListaDeParâmetros, **DicionarioDeParâmetros):\n",
    "    print(ListaDeParâmetros)\n",
    "    print(DicionarioDeParâmetros)\n",
    "    \n",
    "    \n",
    "#Podemos agora usar da seguinte forma\n",
    "\n",
    "funFlexL(1, 'a', 2.0, [1,3])\n",
    "funFlexD(a = 1, beta = 'a', y = 2.0, L = [1,3])\n",
    "funFlexLD(1, 'a',y = 2.0, L = [1,3])\n"
   ]
  },
  {
   "cell_type": "markdown",
   "metadata": {},
   "source": [
    "## Funções anônimas (lambda)\n",
    "\n",
    "__Python__ fornece um recurso que permite criar funções a traves de uma expressão que retorna diretamente o objeto sem precisar nomear ele. Este mecanismo e chamado função anônima ou de função lambda\n",
    "\n",
    "* Lambda é uma expressão \n",
    "* O corpo de uma função lambda é formado por um bloco sintáctico simples\n",
    "\n",
    "Este tópico será abordado com mais profundidade mais para frente no curso. Veja apenas um exemplo aqui"
   ]
  },
  {
   "cell_type": "code",
   "execution_count": null,
   "metadata": {},
   "outputs": [],
   "source": [
    "vezes = lambda a, b: a*b\n",
    "\n",
    "print(\"2*2 = \", vezes(2,2))\n",
    "print(\"'a'*2 = \", vezes('a',2))"
   ]
  },
  {
   "cell_type": "markdown",
   "metadata": {},
   "source": [
    "# Módulos\n",
    "\n",
    "\n",
    "Uma das principais vantagens de utilizar __Python__, como linguagem de programação, é a grande quantidade de recursos que estão disponíveis para os desenvolvedores. As bibliotecas padrão que acompanham a distribuição que você está utilizando já oferece uma ampla gama de ferramentas úteis para diversos tipos de tarefas. Os recursos disponíveis são potencializados pela grande variedade de ferramentas que compõem a ecossistema desenvolvido por terceiros e que podem ser usados livremente. Para poder aproveitar este conjunto de recursos é necessário aprender a usar o conceito de módulos em __Python__. Aprenderemos também a desenvolver nossos próprios módulos.\n",
    "\n",
    "## Que são módulos em __Python__\n",
    "\n",
    "Módulos em __Python__ representam a unidade mais alta de organização de um programa, capaz de armazenar códigos e dados para serem reutilizados, minimizando os nomes conflitantes de objetos. Um programa em __Python__ consiste, basicamente, em arquivos de texto contendo declarações __Python__. Um dos arquivo é o arquivo principal que pode fazer fazer uso ou não de arquivos suplementares que são chamados de módulos.\n",
    "\n",
    "Para carregar um módulo, seja da biblioteca padrão, desenvolvido por terceiros ou por nós mesmos é preciso utilizar a cláusula ``import``. Como funciona o processo de importar um módulo? Procura-se o arquivo do módulo associado ao nome utilizado na cláusula ``import``. O arquivo é compilado para _byte code_ e se executa o módulo para gerar os objetos nele definidos. \n",
    "\n",
    "Quando utilizamos um ``import`` no nosso código os arquivos relacionados ao módulo que se deseja utilizar são procurados hierarquicamente na seguinte ordem:\n",
    "* na pasta da aplicação;\n",
    "* no caminho do __PYTHONPATH__;\n",
    "* no caminho padrão das bibliotecas;\n",
    "* nas pastas indicadas nos arquivos .pth;\n",
    "* nos sítios definidos por bibliotecas de terceiros\n",
    "\n",
    "\n",
    "Os nomes dos módulos viram variáveis quando importados. Desta forma a seus nomes se aplicam as mesmas restrições que aos de variáveis. Podem ser importados módulos das seguintes formas\n",
    "\n",
    "### Importando explicitamente\n",
    "\n",
    "Quando importados explicitamente os objetos do módulo são preservados em um _namespace_ associado ao nome do módulo. Os objetos do mesmo poderão ser acessados utilizando o nome do módulo seguido de “.” e da chamada ao objeto. Veja como exemplo o uso do módulo _math_.\n",
    "Módulos"
   ]
  },
  {
   "cell_type": "code",
   "execution_count": null,
   "metadata": {},
   "outputs": [],
   "source": [
    "import math\n",
    "math.cos(math.pi)"
   ]
  },
  {
   "cell_type": "markdown",
   "metadata": {},
   "source": [
    "### Importando explicitamente utilizando um alias\n",
    "\n",
    "Os nomes de alguns módulos são muito grandes, o que dificulta sua utilização quando importados explicitamente. nestes casos é possível utilizar a variação ``import ... as ...`` em que atribuímos uma alias apropriado para o nome do módulo. Veja um exemplo utilizando a __NumPy__, um dos módulos de terceiros mais utilizados em matemática numérica.  "
   ]
  },
  {
   "cell_type": "code",
   "execution_count": null,
   "metadata": {},
   "outputs": [],
   "source": [
    "import numpy as np\n",
    "np.cos(np.pi)"
   ]
  },
  {
   "cell_type": "markdown",
   "metadata": {},
   "source": [
    "### Importação explícita do conteúdo do módulo\n",
    "\n",
    "Em algumas aplicações é necessário importar apenas alguns componentes do módulo e não o namespace completo dele. Neste caso é possível utilizar a forma ``from … import …``. Neste caso o objeto é acessado diretamente e seu nome passa a fazer parte do _namespace_ do seu código. "
   ]
  },
  {
   "cell_type": "code",
   "execution_count": null,
   "metadata": {},
   "outputs": [],
   "source": [
    "from math import cos, pi\n",
    "cos(pi)"
   ]
  },
  {
   "cell_type": "markdown",
   "metadata": {},
   "source": [
    "### Importação implícita de conteúdo do módulo\n",
    "\n",
    "Quando não temos certeza de qual recurso do módulo teremos necessidade de usar e queremos utilizar eles diretamente, pode-se importar o _namspace_ completo do módulo incorporando todos seus objetos ao _namespace_ do seu programa. Para isto utilizamos a sintaxes ``from … import * ``. Este recurso deve ser utilizado com parcimônia e cuidado já que nomes do _namespace_ do módulo podem se sobrepor ao de objetos que já existem no nosso código.  "
   ]
  },
  {
   "cell_type": "code",
   "execution_count": null,
   "metadata": {},
   "outputs": [],
   "source": [
    "from math import *\n",
    "sin(pi) ** 2 + cos(pi) ** 2"
   ]
  },
  {
   "cell_type": "markdown",
   "metadata": {},
   "source": [
    "## Importando módulos da biblioteca padrão do Python\n",
    "\n",
    "A biblioteca padrão do __Python__ vem acompanhada de um conjunto de módulos internos muito úteis, sobre os quais você pode fazer uma leitura complementar em [documentação do Python] (https://docs.python.org/3/library/).\n",
    "Alguns dos recursos mais utilizados estão incluídos em algum destes módulos:\n",
    "\n",
    "* `` os`` e `` sys``: Ferramentas para interface com o sistema operacional, incluindo navegação nas estruturas de diretórios de arquivos e execução de comandos do shell;\n",
    "* `` math`` e `` cmath``: funções e operações matemáticas em números reais e complexos;\n",
    "* `` itertools``: Ferramentas para construir e interagir com iteradores e geradores;\n",
    "* `` functools``: Ferramentas que auxiliam na programação funcional;\n",
    "* `` random``: Ferramentas para geração números pseudo-aleatórios;\n",
    "* `` pickle``: Ferramentas para persistência de objetos: salvando e carregando objetos do disco;\n",
    "* `` json`` e `` csv``: Ferramentas para ler arquivos formatados em JSON e CSV;\n",
    "* `` urllib``: Ferramentas para executar HTTP e outras solicitações da web;\n",
    "\n",
    "\n",
    "# Tópicos adicionais #\n",
    "\n",
    "Neste ponto faremos uma revisão do conteúdo ministrado através de algumas atividades que buscam consolidar o conteúdo ministrado e discutir alguns temas adicionais como:\n",
    "\n",
    "* Uso de Iteradores;\n",
    "* Operando com listas e List-Comprehensions;\n",
    "* Uso de Geradores;\n",
    "* Processamento de Strings e expressões Regular."
   ]
  },
  {
   "cell_type": "code",
   "execution_count": null,
   "metadata": {},
   "outputs": [],
   "source": []
  }
 ],
 "metadata": {
  "kernelspec": {
   "display_name": "Python 3",
   "language": "python",
   "name": "python3"
  },
  "language_info": {
   "codemirror_mode": {
    "name": "ipython",
    "version": 3
   },
   "file_extension": ".py",
   "mimetype": "text/x-python",
   "name": "python",
   "nbconvert_exporter": "python",
   "pygments_lexer": "ipython3",
   "version": "3.9.2"
  }
 },
 "nbformat": 4,
 "nbformat_minor": 2
}
